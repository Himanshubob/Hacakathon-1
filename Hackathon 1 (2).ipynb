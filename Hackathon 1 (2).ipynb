{
 "cells": [
  {
   "cell_type": "code",
   "execution_count": 264,
   "id": "27a81271",
   "metadata": {},
   "outputs": [],
   "source": [
    "import pandas as pd \n",
    "import numpy as np\n",
    "import matplotlib.pyplot as plt \n",
    "import seaborn as sns\n",
    "%matplotlib inline\n",
    "import warnings\n",
    "#warnings.filterwarnings('ignore')"
   ]
  },
  {
   "cell_type": "code",
   "execution_count": 265,
   "id": "cbdf30a3",
   "metadata": {},
   "outputs": [],
   "source": [
    "df=pd.read_csv('Suicide Dataset.csv')"
   ]
  },
  {
   "cell_type": "code",
   "execution_count": 266,
   "id": "a40e02fb",
   "metadata": {},
   "outputs": [
    {
     "data": {
      "text/html": [
       "<div>\n",
       "<style scoped>\n",
       "    .dataframe tbody tr th:only-of-type {\n",
       "        vertical-align: middle;\n",
       "    }\n",
       "\n",
       "    .dataframe tbody tr th {\n",
       "        vertical-align: top;\n",
       "    }\n",
       "\n",
       "    .dataframe thead th {\n",
       "        text-align: right;\n",
       "    }\n",
       "</style>\n",
       "<table border=\"1\" class=\"dataframe\">\n",
       "  <thead>\n",
       "    <tr style=\"text-align: right;\">\n",
       "      <th></th>\n",
       "      <th>country</th>\n",
       "      <th>year</th>\n",
       "      <th>sex</th>\n",
       "      <th>age</th>\n",
       "      <th>suicides_no</th>\n",
       "      <th>population</th>\n",
       "      <th>suicides/100k pop</th>\n",
       "      <th>country-year</th>\n",
       "      <th>HDI for year</th>\n",
       "      <th>gdp_for_year ($)</th>\n",
       "      <th>gdp_per_capita ($)</th>\n",
       "      <th>generation</th>\n",
       "    </tr>\n",
       "  </thead>\n",
       "  <tbody>\n",
       "    <tr>\n",
       "      <th>0</th>\n",
       "      <td>Albania</td>\n",
       "      <td>1987</td>\n",
       "      <td>male</td>\n",
       "      <td>15-24 years</td>\n",
       "      <td>21</td>\n",
       "      <td>312900</td>\n",
       "      <td>6.71</td>\n",
       "      <td>Albania1987</td>\n",
       "      <td>NaN</td>\n",
       "      <td>2,15,66,24,900</td>\n",
       "      <td>796</td>\n",
       "      <td>Generation X</td>\n",
       "    </tr>\n",
       "    <tr>\n",
       "      <th>1</th>\n",
       "      <td>Albania</td>\n",
       "      <td>1987</td>\n",
       "      <td>male</td>\n",
       "      <td>35-54 years</td>\n",
       "      <td>16</td>\n",
       "      <td>308000</td>\n",
       "      <td>5.19</td>\n",
       "      <td>Albania1987</td>\n",
       "      <td>NaN</td>\n",
       "      <td>2,15,66,24,900</td>\n",
       "      <td>796</td>\n",
       "      <td>Silent</td>\n",
       "    </tr>\n",
       "    <tr>\n",
       "      <th>2</th>\n",
       "      <td>Albania</td>\n",
       "      <td>1987</td>\n",
       "      <td>female</td>\n",
       "      <td>15-24 years</td>\n",
       "      <td>14</td>\n",
       "      <td>289700</td>\n",
       "      <td>4.83</td>\n",
       "      <td>Albania1987</td>\n",
       "      <td>NaN</td>\n",
       "      <td>2,15,66,24,900</td>\n",
       "      <td>796</td>\n",
       "      <td>Generation X</td>\n",
       "    </tr>\n",
       "    <tr>\n",
       "      <th>3</th>\n",
       "      <td>Albania</td>\n",
       "      <td>1987</td>\n",
       "      <td>male</td>\n",
       "      <td>75+ years</td>\n",
       "      <td>1</td>\n",
       "      <td>21800</td>\n",
       "      <td>4.59</td>\n",
       "      <td>Albania1987</td>\n",
       "      <td>NaN</td>\n",
       "      <td>2,15,66,24,900</td>\n",
       "      <td>796</td>\n",
       "      <td>G.I. Generation</td>\n",
       "    </tr>\n",
       "    <tr>\n",
       "      <th>4</th>\n",
       "      <td>Albania</td>\n",
       "      <td>1987</td>\n",
       "      <td>male</td>\n",
       "      <td>25-34 years</td>\n",
       "      <td>9</td>\n",
       "      <td>274300</td>\n",
       "      <td>3.28</td>\n",
       "      <td>Albania1987</td>\n",
       "      <td>NaN</td>\n",
       "      <td>2,15,66,24,900</td>\n",
       "      <td>796</td>\n",
       "      <td>Boomers</td>\n",
       "    </tr>\n",
       "  </tbody>\n",
       "</table>\n",
       "</div>"
      ],
      "text/plain": [
       "   country  year     sex          age  suicides_no  population  \\\n",
       "0  Albania  1987    male  15-24 years           21      312900   \n",
       "1  Albania  1987    male  35-54 years           16      308000   \n",
       "2  Albania  1987  female  15-24 years           14      289700   \n",
       "3  Albania  1987    male    75+ years            1       21800   \n",
       "4  Albania  1987    male  25-34 years            9      274300   \n",
       "\n",
       "   suicides/100k pop country-year  HDI for year  gdp_for_year ($)   \\\n",
       "0               6.71  Albania1987           NaN     2,15,66,24,900   \n",
       "1               5.19  Albania1987           NaN     2,15,66,24,900   \n",
       "2               4.83  Albania1987           NaN     2,15,66,24,900   \n",
       "3               4.59  Albania1987           NaN     2,15,66,24,900   \n",
       "4               3.28  Albania1987           NaN     2,15,66,24,900   \n",
       "\n",
       "   gdp_per_capita ($)       generation  \n",
       "0                 796     Generation X  \n",
       "1                 796           Silent  \n",
       "2                 796     Generation X  \n",
       "3                 796  G.I. Generation  \n",
       "4                 796          Boomers  "
      ]
     },
     "execution_count": 266,
     "metadata": {},
     "output_type": "execute_result"
    }
   ],
   "source": [
    "df.head()"
   ]
  },
  {
   "cell_type": "code",
   "execution_count": 267,
   "id": "edca2fd7",
   "metadata": {},
   "outputs": [
    {
     "name": "stdout",
     "output_type": "stream",
     "text": [
      "<class 'pandas.core.frame.DataFrame'>\n",
      "RangeIndex: 27820 entries, 0 to 27819\n",
      "Data columns (total 12 columns):\n",
      " #   Column              Non-Null Count  Dtype  \n",
      "---  ------              --------------  -----  \n",
      " 0   country             27820 non-null  object \n",
      " 1   year                27820 non-null  int64  \n",
      " 2   sex                 27820 non-null  object \n",
      " 3   age                 27820 non-null  object \n",
      " 4   suicides_no         27820 non-null  int64  \n",
      " 5   population          27820 non-null  int64  \n",
      " 6   suicides/100k pop   27820 non-null  float64\n",
      " 7   country-year        27820 non-null  object \n",
      " 8   HDI for year        8364 non-null   float64\n",
      " 9    gdp_for_year ($)   27820 non-null  object \n",
      " 10  gdp_per_capita ($)  27820 non-null  int64  \n",
      " 11  generation          27820 non-null  object \n",
      "dtypes: float64(2), int64(4), object(6)\n",
      "memory usage: 2.5+ MB\n"
     ]
    }
   ],
   "source": [
    "df.info()"
   ]
  },
  {
   "cell_type": "markdown",
   "id": "410d2898",
   "metadata": {},
   "source": [
    "# Q1 a)..."
   ]
  },
  {
   "cell_type": "code",
   "execution_count": 268,
   "id": "cb4c8091",
   "metadata": {},
   "outputs": [],
   "source": [
    "year_2011 = df[df['year'] == 2011]\n",
    "year_2012 = df[df['year'] == 2012]\n",
    "year_2013 = df[df['year'] == 2013]\n",
    "year_2014 = df[df['year'] == 2014]"
   ]
  },
  {
   "cell_type": "code",
   "execution_count": 269,
   "id": "0a9c5701",
   "metadata": {},
   "outputs": [],
   "source": [
    "df1=pd.concat([year_2011,year_2012,year_2013,year_2014])"
   ]
  },
  {
   "cell_type": "code",
   "execution_count": 270,
   "id": "e95baf60",
   "metadata": {},
   "outputs": [
    {
     "data": {
      "text/html": [
       "<div>\n",
       "<style scoped>\n",
       "    .dataframe tbody tr th:only-of-type {\n",
       "        vertical-align: middle;\n",
       "    }\n",
       "\n",
       "    .dataframe tbody tr th {\n",
       "        vertical-align: top;\n",
       "    }\n",
       "\n",
       "    .dataframe thead th {\n",
       "        text-align: right;\n",
       "    }\n",
       "</style>\n",
       "<table border=\"1\" class=\"dataframe\">\n",
       "  <thead>\n",
       "    <tr style=\"text-align: right;\">\n",
       "      <th></th>\n",
       "      <th>country</th>\n",
       "      <th>year</th>\n",
       "      <th>sex</th>\n",
       "      <th>age</th>\n",
       "      <th>suicides_no</th>\n",
       "      <th>population</th>\n",
       "      <th>suicides/100k pop</th>\n",
       "      <th>country-year</th>\n",
       "      <th>HDI for year</th>\n",
       "      <th>gdp_for_year ($)</th>\n",
       "      <th>gdp_per_capita ($)</th>\n",
       "      <th>generation</th>\n",
       "    </tr>\n",
       "  </thead>\n",
       "  <tbody>\n",
       "    <tr>\n",
       "      <th>900</th>\n",
       "      <td>Argentina</td>\n",
       "      <td>2011</td>\n",
       "      <td>male</td>\n",
       "      <td>75+ years</td>\n",
       "      <td>178</td>\n",
       "      <td>674738</td>\n",
       "      <td>26.38</td>\n",
       "      <td>Argentina2011</td>\n",
       "      <td>0.818</td>\n",
       "      <td>5,30,16,32,81,575</td>\n",
       "      <td>13946</td>\n",
       "      <td>Silent</td>\n",
       "    </tr>\n",
       "    <tr>\n",
       "      <th>901</th>\n",
       "      <td>Argentina</td>\n",
       "      <td>2011</td>\n",
       "      <td>male</td>\n",
       "      <td>15-24 years</td>\n",
       "      <td>693</td>\n",
       "      <td>3471151</td>\n",
       "      <td>19.96</td>\n",
       "      <td>Argentina2011</td>\n",
       "      <td>0.818</td>\n",
       "      <td>5,30,16,32,81,575</td>\n",
       "      <td>13946</td>\n",
       "      <td>Millenials</td>\n",
       "    </tr>\n",
       "    <tr>\n",
       "      <th>902</th>\n",
       "      <td>Argentina</td>\n",
       "      <td>2011</td>\n",
       "      <td>male</td>\n",
       "      <td>25-34 years</td>\n",
       "      <td>510</td>\n",
       "      <td>3258804</td>\n",
       "      <td>15.65</td>\n",
       "      <td>Argentina2011</td>\n",
       "      <td>0.818</td>\n",
       "      <td>5,30,16,32,81,575</td>\n",
       "      <td>13946</td>\n",
       "      <td>Millenials</td>\n",
       "    </tr>\n",
       "    <tr>\n",
       "      <th>903</th>\n",
       "      <td>Argentina</td>\n",
       "      <td>2011</td>\n",
       "      <td>male</td>\n",
       "      <td>55-74 years</td>\n",
       "      <td>416</td>\n",
       "      <td>2788575</td>\n",
       "      <td>14.92</td>\n",
       "      <td>Argentina2011</td>\n",
       "      <td>0.818</td>\n",
       "      <td>5,30,16,32,81,575</td>\n",
       "      <td>13946</td>\n",
       "      <td>Boomers</td>\n",
       "    </tr>\n",
       "    <tr>\n",
       "      <th>904</th>\n",
       "      <td>Argentina</td>\n",
       "      <td>2011</td>\n",
       "      <td>male</td>\n",
       "      <td>35-54 years</td>\n",
       "      <td>504</td>\n",
       "      <td>4738525</td>\n",
       "      <td>10.64</td>\n",
       "      <td>Argentina2011</td>\n",
       "      <td>0.818</td>\n",
       "      <td>5,30,16,32,81,575</td>\n",
       "      <td>13946</td>\n",
       "      <td>Generation X</td>\n",
       "    </tr>\n",
       "  </tbody>\n",
       "</table>\n",
       "</div>"
      ],
      "text/plain": [
       "       country  year   sex          age  suicides_no  population  \\\n",
       "900  Argentina  2011  male    75+ years          178      674738   \n",
       "901  Argentina  2011  male  15-24 years          693     3471151   \n",
       "902  Argentina  2011  male  25-34 years          510     3258804   \n",
       "903  Argentina  2011  male  55-74 years          416     2788575   \n",
       "904  Argentina  2011  male  35-54 years          504     4738525   \n",
       "\n",
       "     suicides/100k pop   country-year  HDI for year  gdp_for_year ($)   \\\n",
       "900              26.38  Argentina2011         0.818  5,30,16,32,81,575   \n",
       "901              19.96  Argentina2011         0.818  5,30,16,32,81,575   \n",
       "902              15.65  Argentina2011         0.818  5,30,16,32,81,575   \n",
       "903              14.92  Argentina2011         0.818  5,30,16,32,81,575   \n",
       "904              10.64  Argentina2011         0.818  5,30,16,32,81,575   \n",
       "\n",
       "     gdp_per_capita ($)    generation  \n",
       "900               13946        Silent  \n",
       "901               13946    Millenials  \n",
       "902               13946    Millenials  \n",
       "903               13946       Boomers  \n",
       "904               13946  Generation X  "
      ]
     },
     "execution_count": 270,
     "metadata": {},
     "output_type": "execute_result"
    }
   ],
   "source": [
    "df1.head()"
   ]
  },
  {
   "cell_type": "code",
   "execution_count": 271,
   "id": "c3211f40",
   "metadata": {},
   "outputs": [
    {
     "data": {
      "text/plain": [
       "<seaborn.axisgrid.JointGrid at 0x237c56f91b0>"
      ]
     },
     "execution_count": 271,
     "metadata": {},
     "output_type": "execute_result"
    },
    {
     "data": {
      "image/png": "[encoded data removed]",
      "text/plain": [
       "<Figure size 600x600 with 3 Axes>"
      ]
     },
     "metadata": {},
     "output_type": "display_data"
    }
   ],
   "source": [
    "sns.jointplot(x='gdp_per_capita ($)',y='suicides/100k pop',data=df1 ,kind='scatter', color='r')"
   ]
  },
  {
   "cell_type": "markdown",
   "id": "0d930c0d",
   "metadata": {},
   "source": [
    "# b)....\n"
   ]
  },
  {
   "cell_type": "markdown",
   "id": "55eb91da",
   "metadata": {},
   "source": [
    "# data of 2011 fited line "
   ]
  },
  {
   "cell_type": "code",
   "execution_count": 272,
   "id": "2a77a7e0",
   "metadata": {},
   "outputs": [],
   "source": [
    "year_2011 = df[df['year'] == 2011]"
   ]
  },
  {
   "cell_type": "code",
   "execution_count": 273,
   "id": "e90047c0",
   "metadata": {},
   "outputs": [
    {
     "data": {
      "text/html": [
       "<div>\n",
       "<style scoped>\n",
       "    .dataframe tbody tr th:only-of-type {\n",
       "        vertical-align: middle;\n",
       "    }\n",
       "\n",
       "    .dataframe tbody tr th {\n",
       "        vertical-align: top;\n",
       "    }\n",
       "\n",
       "    .dataframe thead th {\n",
       "        text-align: right;\n",
       "    }\n",
       "</style>\n",
       "<table border=\"1\" class=\"dataframe\">\n",
       "  <thead>\n",
       "    <tr style=\"text-align: right;\">\n",
       "      <th></th>\n",
       "      <th>country</th>\n",
       "      <th>year</th>\n",
       "      <th>sex</th>\n",
       "      <th>age</th>\n",
       "      <th>suicides_no</th>\n",
       "      <th>population</th>\n",
       "      <th>suicides/100k pop</th>\n",
       "      <th>country-year</th>\n",
       "      <th>HDI for year</th>\n",
       "      <th>gdp_for_year ($)</th>\n",
       "      <th>gdp_per_capita ($)</th>\n",
       "      <th>generation</th>\n",
       "    </tr>\n",
       "  </thead>\n",
       "  <tbody>\n",
       "    <tr>\n",
       "      <th>900</th>\n",
       "      <td>Argentina</td>\n",
       "      <td>2011</td>\n",
       "      <td>male</td>\n",
       "      <td>75+ years</td>\n",
       "      <td>178</td>\n",
       "      <td>674738</td>\n",
       "      <td>26.38</td>\n",
       "      <td>Argentina2011</td>\n",
       "      <td>0.818</td>\n",
       "      <td>5,30,16,32,81,575</td>\n",
       "      <td>13946</td>\n",
       "      <td>Silent</td>\n",
       "    </tr>\n",
       "    <tr>\n",
       "      <th>901</th>\n",
       "      <td>Argentina</td>\n",
       "      <td>2011</td>\n",
       "      <td>male</td>\n",
       "      <td>15-24 years</td>\n",
       "      <td>693</td>\n",
       "      <td>3471151</td>\n",
       "      <td>19.96</td>\n",
       "      <td>Argentina2011</td>\n",
       "      <td>0.818</td>\n",
       "      <td>5,30,16,32,81,575</td>\n",
       "      <td>13946</td>\n",
       "      <td>Millenials</td>\n",
       "    </tr>\n",
       "    <tr>\n",
       "      <th>902</th>\n",
       "      <td>Argentina</td>\n",
       "      <td>2011</td>\n",
       "      <td>male</td>\n",
       "      <td>25-34 years</td>\n",
       "      <td>510</td>\n",
       "      <td>3258804</td>\n",
       "      <td>15.65</td>\n",
       "      <td>Argentina2011</td>\n",
       "      <td>0.818</td>\n",
       "      <td>5,30,16,32,81,575</td>\n",
       "      <td>13946</td>\n",
       "      <td>Millenials</td>\n",
       "    </tr>\n",
       "    <tr>\n",
       "      <th>903</th>\n",
       "      <td>Argentina</td>\n",
       "      <td>2011</td>\n",
       "      <td>male</td>\n",
       "      <td>55-74 years</td>\n",
       "      <td>416</td>\n",
       "      <td>2788575</td>\n",
       "      <td>14.92</td>\n",
       "      <td>Argentina2011</td>\n",
       "      <td>0.818</td>\n",
       "      <td>5,30,16,32,81,575</td>\n",
       "      <td>13946</td>\n",
       "      <td>Boomers</td>\n",
       "    </tr>\n",
       "    <tr>\n",
       "      <th>904</th>\n",
       "      <td>Argentina</td>\n",
       "      <td>2011</td>\n",
       "      <td>male</td>\n",
       "      <td>35-54 years</td>\n",
       "      <td>504</td>\n",
       "      <td>4738525</td>\n",
       "      <td>10.64</td>\n",
       "      <td>Argentina2011</td>\n",
       "      <td>0.818</td>\n",
       "      <td>5,30,16,32,81,575</td>\n",
       "      <td>13946</td>\n",
       "      <td>Generation X</td>\n",
       "    </tr>\n",
       "  </tbody>\n",
       "</table>\n",
       "</div>"
      ],
      "text/plain": [
       "       country  year   sex          age  suicides_no  population  \\\n",
       "900  Argentina  2011  male    75+ years          178      674738   \n",
       "901  Argentina  2011  male  15-24 years          693     3471151   \n",
       "902  Argentina  2011  male  25-34 years          510     3258804   \n",
       "903  Argentina  2011  male  55-74 years          416     2788575   \n",
       "904  Argentina  2011  male  35-54 years          504     4738525   \n",
       "\n",
       "     suicides/100k pop   country-year  HDI for year  gdp_for_year ($)   \\\n",
       "900              26.38  Argentina2011         0.818  5,30,16,32,81,575   \n",
       "901              19.96  Argentina2011         0.818  5,30,16,32,81,575   \n",
       "902              15.65  Argentina2011         0.818  5,30,16,32,81,575   \n",
       "903              14.92  Argentina2011         0.818  5,30,16,32,81,575   \n",
       "904              10.64  Argentina2011         0.818  5,30,16,32,81,575   \n",
       "\n",
       "     gdp_per_capita ($)    generation  \n",
       "900               13946        Silent  \n",
       "901               13946    Millenials  \n",
       "902               13946    Millenials  \n",
       "903               13946       Boomers  \n",
       "904               13946  Generation X  "
      ]
     },
     "execution_count": 273,
     "metadata": {},
     "output_type": "execute_result"
    }
   ],
   "source": [
    "year_2011.head()"
   ]
  },
  {
   "cell_type": "code",
   "execution_count": 274,
   "id": "a428f140",
   "metadata": {},
   "outputs": [],
   "source": [
    "x1=year_2011['gdp_per_capita ($)']"
   ]
  },
  {
   "cell_type": "code",
   "execution_count": 275,
   "id": "a3755d76",
   "metadata": {},
   "outputs": [
    {
     "data": {
      "text/plain": [
       "900      13946\n",
       "901      13946\n",
       "902      13946\n",
       "903      13946\n",
       "904      13946\n",
       "         ...  \n",
       "27779     1767\n",
       "27780     1767\n",
       "27781     1767\n",
       "27782     1767\n",
       "27783     1767\n",
       "Name: gdp_per_capita ($), Length: 1032, dtype: int64"
      ]
     },
     "execution_count": 275,
     "metadata": {},
     "output_type": "execute_result"
    }
   ],
   "source": [
    "x1"
   ]
  },
  {
   "cell_type": "code",
   "execution_count": 276,
   "id": "522060ae",
   "metadata": {},
   "outputs": [],
   "source": [
    "y1=year_2011['suicides/100k pop']"
   ]
  },
  {
   "cell_type": "code",
   "execution_count": 277,
   "id": "11ea1e89",
   "metadata": {},
   "outputs": [
    {
     "data": {
      "text/plain": [
       "900      26.38\n",
       "901      19.96\n",
       "902      15.65\n",
       "903      14.92\n",
       "904      10.64\n",
       "         ...  \n",
       "27779     2.29\n",
       "27780     1.66\n",
       "27781     1.56\n",
       "27782     1.51\n",
       "27783     1.08\n",
       "Name: suicides/100k pop, Length: 1032, dtype: float64"
      ]
     },
     "execution_count": 277,
     "metadata": {},
     "output_type": "execute_result"
    }
   ],
   "source": [
    "y1"
   ]
  },
  {
   "cell_type": "code",
   "execution_count": 278,
   "id": "5b6fd5c5",
   "metadata": {},
   "outputs": [],
   "source": [
    "x1_=x1.mean()"
   ]
  },
  {
   "cell_type": "code",
   "execution_count": 279,
   "id": "05b3eb3d",
   "metadata": {},
   "outputs": [
    {
     "data": {
      "text/plain": [
       "26100.918604651164"
      ]
     },
     "execution_count": 279,
     "metadata": {},
     "output_type": "execute_result"
    }
   ],
   "source": [
    "x1_"
   ]
  },
  {
   "cell_type": "code",
   "execution_count": 280,
   "id": "9bcabf76",
   "metadata": {},
   "outputs": [],
   "source": [
    "y1_=y1.mean()"
   ]
  },
  {
   "cell_type": "code",
   "execution_count": 281,
   "id": "9d4187b2",
   "metadata": {},
   "outputs": [
    {
     "data": {
      "text/plain": [
       "11.015348837209302"
      ]
     },
     "execution_count": 281,
     "metadata": {},
     "output_type": "execute_result"
    }
   ],
   "source": [
    "y1_"
   ]
  },
  {
   "cell_type": "code",
   "execution_count": 282,
   "id": "f54e17ce",
   "metadata": {},
   "outputs": [],
   "source": [
    "Sxx=np.sum((x1-x1_)**2)"
   ]
  },
  {
   "cell_type": "code",
   "execution_count": 283,
   "id": "25b9a0fb",
   "metadata": {},
   "outputs": [],
   "source": [
    "Sxy=np.sum(y1*(x1-x1_))"
   ]
  },
  {
   "cell_type": "code",
   "execution_count": 284,
   "id": "13ce8c67",
   "metadata": {},
   "outputs": [],
   "source": [
    "beta1=Sxy/Sxx"
   ]
  },
  {
   "cell_type": "code",
   "execution_count": 285,
   "id": "29e61e81",
   "metadata": {},
   "outputs": [
    {
     "data": {
      "text/plain": [
       "1.3657143058581276e-05"
      ]
     },
     "execution_count": 285,
     "metadata": {},
     "output_type": "execute_result"
    }
   ],
   "source": [
    "beta1"
   ]
  },
  {
   "cell_type": "code",
   "execution_count": 286,
   "id": "ecdd9c35",
   "metadata": {},
   "outputs": [],
   "source": [
    "beta0=y1_-(beta1*x1_)"
   ]
  },
  {
   "cell_type": "code",
   "execution_count": 287,
   "id": "b862c64f",
   "metadata": {},
   "outputs": [
    {
     "data": {
      "text/plain": [
       "10.658884857865196"
      ]
     },
     "execution_count": 287,
     "metadata": {},
     "output_type": "execute_result"
    }
   ],
   "source": [
    "beta0"
   ]
  },
  {
   "cell_type": "code",
   "execution_count": 288,
   "id": "710c467d",
   "metadata": {},
   "outputs": [],
   "source": [
    "Y_het=beta0+(beta1*x1)"
   ]
  },
  {
   "cell_type": "code",
   "execution_count": 289,
   "id": "c6b4c83d",
   "metadata": {},
   "outputs": [
    {
     "data": {
      "text/plain": [
       "900      10.849347\n",
       "901      10.849347\n",
       "902      10.849347\n",
       "903      10.849347\n",
       "904      10.849347\n",
       "           ...    \n",
       "27779    10.683017\n",
       "27780    10.683017\n",
       "27781    10.683017\n",
       "27782    10.683017\n",
       "27783    10.683017\n",
       "Name: gdp_per_capita ($), Length: 1032, dtype: float64"
      ]
     },
     "execution_count": 289,
     "metadata": {},
     "output_type": "execute_result"
    }
   ],
   "source": [
    "Y_het"
   ]
  },
  {
   "cell_type": "code",
   "execution_count": 290,
   "id": "4f656462",
   "metadata": {},
   "outputs": [
    {
     "data": {
      "text/plain": [
       "[<matplotlib.lines.Line2D at 0x237c46685b0>]"
      ]
     },
     "execution_count": 290,
     "metadata": {},
     "output_type": "execute_result"
    },
    {
     "data": {
      "image/png": "[encoded data removed]",
      "text/plain": [
       "<Figure size 640x480 with 1 Axes>"
      ]
     },
     "metadata": {},
     "output_type": "display_data"
    }
   ],
   "source": [
    "\n",
    "plt.scatter(x1, y1, label='Data Points')\n",
    "\n",
    "\n",
    "plt.plot(x1, Y_het, color='red', label='Fitted Line')"
   ]
  },
  {
   "cell_type": "code",
   "execution_count": 291,
   "id": "46ed479a",
   "metadata": {},
   "outputs": [],
   "source": [
    "SSres=np.sum((y1-Y_het)**2)"
   ]
  },
  {
   "cell_type": "code",
   "execution_count": 292,
   "id": "f7e1e2d7",
   "metadata": {},
   "outputs": [
    {
     "data": {
      "text/plain": [
       "275487.27922076755"
      ]
     },
     "execution_count": 292,
     "metadata": {},
     "output_type": "execute_result"
    }
   ],
   "source": [
    "SSres"
   ]
  },
  {
   "cell_type": "code",
   "execution_count": 293,
   "id": "30d674ab",
   "metadata": {},
   "outputs": [],
   "source": [
    "SStol=np.sum((y1-y1_)**2)"
   ]
  },
  {
   "cell_type": "code",
   "execution_count": 294,
   "id": "5ef4f4a5",
   "metadata": {},
   "outputs": [
    {
     "data": {
      "text/plain": [
       "275614.93187441863"
      ]
     },
     "execution_count": 294,
     "metadata": {},
     "output_type": "execute_result"
    }
   ],
   "source": [
    "SStol"
   ]
  },
  {
   "cell_type": "code",
   "execution_count": 295,
   "id": "ca0f8471",
   "metadata": {},
   "outputs": [],
   "source": [
    "T=SSres/SStol"
   ]
  },
  {
   "cell_type": "code",
   "execution_count": 296,
   "id": "9c861d9d",
   "metadata": {},
   "outputs": [
    {
     "data": {
      "text/plain": [
       "0.9995368442022247"
      ]
     },
     "execution_count": 296,
     "metadata": {},
     "output_type": "execute_result"
    }
   ],
   "source": [
    "T"
   ]
  },
  {
   "cell_type": "code",
   "execution_count": 297,
   "id": "75758b9c",
   "metadata": {},
   "outputs": [],
   "source": [
    "R_squard=1-T"
   ]
  },
  {
   "cell_type": "code",
   "execution_count": 298,
   "id": "424b5a94",
   "metadata": {},
   "outputs": [
    {
     "data": {
      "text/plain": [
       "0.00046315579777533866"
      ]
     },
     "execution_count": 298,
     "metadata": {},
     "output_type": "execute_result"
    }
   ],
   "source": [
    "R_squard"
   ]
  },
  {
   "cell_type": "markdown",
   "id": "798ccddd",
   "metadata": {},
   "source": [
    "# data of 2012 fited line"
   ]
  },
  {
   "cell_type": "code",
   "execution_count": 299,
   "id": "4de1d5be",
   "metadata": {},
   "outputs": [],
   "source": [
    "year_2012 = df[df['year'] == 2012]"
   ]
  },
  {
   "cell_type": "code",
   "execution_count": 300,
   "id": "003ffa46",
   "metadata": {},
   "outputs": [
    {
     "data": {
      "text/html": [
       "<div>\n",
       "<style scoped>\n",
       "    .dataframe tbody tr th:only-of-type {\n",
       "        vertical-align: middle;\n",
       "    }\n",
       "\n",
       "    .dataframe tbody tr th {\n",
       "        vertical-align: top;\n",
       "    }\n",
       "\n",
       "    .dataframe thead th {\n",
       "        text-align: right;\n",
       "    }\n",
       "</style>\n",
       "<table border=\"1\" class=\"dataframe\">\n",
       "  <thead>\n",
       "    <tr style=\"text-align: right;\">\n",
       "      <th></th>\n",
       "      <th>country</th>\n",
       "      <th>year</th>\n",
       "      <th>sex</th>\n",
       "      <th>age</th>\n",
       "      <th>suicides_no</th>\n",
       "      <th>population</th>\n",
       "      <th>suicides/100k pop</th>\n",
       "      <th>country-year</th>\n",
       "      <th>HDI for year</th>\n",
       "      <th>gdp_for_year ($)</th>\n",
       "      <th>gdp_per_capita ($)</th>\n",
       "      <th>generation</th>\n",
       "    </tr>\n",
       "  </thead>\n",
       "  <tbody>\n",
       "    <tr>\n",
       "      <th>540</th>\n",
       "      <td>Antigua and Barbuda</td>\n",
       "      <td>2012</td>\n",
       "      <td>female</td>\n",
       "      <td>15-24 years</td>\n",
       "      <td>0</td>\n",
       "      <td>8435</td>\n",
       "      <td>0.0</td>\n",
       "      <td>Antigua and Barbuda2012</td>\n",
       "      <td>0.781</td>\n",
       "      <td>1,21,14,11,704</td>\n",
       "      <td>13657</td>\n",
       "      <td>Millenials</td>\n",
       "    </tr>\n",
       "    <tr>\n",
       "      <th>541</th>\n",
       "      <td>Antigua and Barbuda</td>\n",
       "      <td>2012</td>\n",
       "      <td>female</td>\n",
       "      <td>25-34 years</td>\n",
       "      <td>0</td>\n",
       "      <td>7215</td>\n",
       "      <td>0.0</td>\n",
       "      <td>Antigua and Barbuda2012</td>\n",
       "      <td>0.781</td>\n",
       "      <td>1,21,14,11,704</td>\n",
       "      <td>13657</td>\n",
       "      <td>Millenials</td>\n",
       "    </tr>\n",
       "    <tr>\n",
       "      <th>542</th>\n",
       "      <td>Antigua and Barbuda</td>\n",
       "      <td>2012</td>\n",
       "      <td>female</td>\n",
       "      <td>35-54 years</td>\n",
       "      <td>0</td>\n",
       "      <td>15193</td>\n",
       "      <td>0.0</td>\n",
       "      <td>Antigua and Barbuda2012</td>\n",
       "      <td>0.781</td>\n",
       "      <td>1,21,14,11,704</td>\n",
       "      <td>13657</td>\n",
       "      <td>Generation X</td>\n",
       "    </tr>\n",
       "    <tr>\n",
       "      <th>543</th>\n",
       "      <td>Antigua and Barbuda</td>\n",
       "      <td>2012</td>\n",
       "      <td>female</td>\n",
       "      <td>5-14 years</td>\n",
       "      <td>0</td>\n",
       "      <td>8401</td>\n",
       "      <td>0.0</td>\n",
       "      <td>Antigua and Barbuda2012</td>\n",
       "      <td>0.781</td>\n",
       "      <td>1,21,14,11,704</td>\n",
       "      <td>13657</td>\n",
       "      <td>Generation Z</td>\n",
       "    </tr>\n",
       "    <tr>\n",
       "      <th>544</th>\n",
       "      <td>Antigua and Barbuda</td>\n",
       "      <td>2012</td>\n",
       "      <td>female</td>\n",
       "      <td>55-74 years</td>\n",
       "      <td>0</td>\n",
       "      <td>5512</td>\n",
       "      <td>0.0</td>\n",
       "      <td>Antigua and Barbuda2012</td>\n",
       "      <td>0.781</td>\n",
       "      <td>1,21,14,11,704</td>\n",
       "      <td>13657</td>\n",
       "      <td>Boomers</td>\n",
       "    </tr>\n",
       "  </tbody>\n",
       "</table>\n",
       "</div>"
      ],
      "text/plain": [
       "                 country  year     sex          age  suicides_no  population  \\\n",
       "540  Antigua and Barbuda  2012  female  15-24 years            0        8435   \n",
       "541  Antigua and Barbuda  2012  female  25-34 years            0        7215   \n",
       "542  Antigua and Barbuda  2012  female  35-54 years            0       15193   \n",
       "543  Antigua and Barbuda  2012  female   5-14 years            0        8401   \n",
       "544  Antigua and Barbuda  2012  female  55-74 years            0        5512   \n",
       "\n",
       "     suicides/100k pop             country-year  HDI for year  \\\n",
       "540                0.0  Antigua and Barbuda2012         0.781   \n",
       "541                0.0  Antigua and Barbuda2012         0.781   \n",
       "542                0.0  Antigua and Barbuda2012         0.781   \n",
       "543                0.0  Antigua and Barbuda2012         0.781   \n",
       "544                0.0  Antigua and Barbuda2012         0.781   \n",
       "\n",
       "     gdp_for_year ($)   gdp_per_capita ($)    generation  \n",
       "540     1,21,14,11,704               13657    Millenials  \n",
       "541     1,21,14,11,704               13657    Millenials  \n",
       "542     1,21,14,11,704               13657  Generation X  \n",
       "543     1,21,14,11,704               13657  Generation Z  \n",
       "544     1,21,14,11,704               13657       Boomers  "
      ]
     },
     "execution_count": 300,
     "metadata": {},
     "output_type": "execute_result"
    }
   ],
   "source": [
    "year_2012.head()"
   ]
  },
  {
   "cell_type": "code",
   "execution_count": 301,
   "id": "7297baf8",
   "metadata": {},
   "outputs": [],
   "source": [
    "x2=year_2012['gdp_per_capita ($)']"
   ]
  },
  {
   "cell_type": "code",
   "execution_count": 302,
   "id": "a97333a3",
   "metadata": {},
   "outputs": [
    {
     "data": {
      "text/plain": [
       "540      13657\n",
       "541      13657\n",
       "542      13657\n",
       "543      13657\n",
       "544      13657\n",
       "         ...  \n",
       "27791     1964\n",
       "27792     1964\n",
       "27793     1964\n",
       "27794     1964\n",
       "27795     1964\n",
       "Name: gdp_per_capita ($), Length: 972, dtype: int64"
      ]
     },
     "execution_count": 302,
     "metadata": {},
     "output_type": "execute_result"
    }
   ],
   "source": [
    "x2"
   ]
  },
  {
   "cell_type": "code",
   "execution_count": 303,
   "id": "cd1a6d1a",
   "metadata": {},
   "outputs": [],
   "source": [
    "y2=year_2012['suicides/100k pop']"
   ]
  },
  {
   "cell_type": "code",
   "execution_count": 304,
   "id": "2fc4821d",
   "metadata": {},
   "outputs": [
    {
     "data": {
      "text/plain": [
       "540      0.00\n",
       "541      0.00\n",
       "542      0.00\n",
       "543      0.00\n",
       "544      0.00\n",
       "         ... \n",
       "27791    2.56\n",
       "27792    2.48\n",
       "27793    1.95\n",
       "27794    1.18\n",
       "27795    0.62\n",
       "Name: suicides/100k pop, Length: 972, dtype: float64"
      ]
     },
     "execution_count": 304,
     "metadata": {},
     "output_type": "execute_result"
    }
   ],
   "source": [
    "y2"
   ]
  },
  {
   "cell_type": "code",
   "execution_count": 305,
   "id": "d54a5549",
   "metadata": {},
   "outputs": [],
   "source": [
    "x2_=x2.mean()"
   ]
  },
  {
   "cell_type": "code",
   "execution_count": 306,
   "id": "33c687ac",
   "metadata": {},
   "outputs": [],
   "source": [
    "y2_=y2.mean()"
   ]
  },
  {
   "cell_type": "code",
   "execution_count": 307,
   "id": "31597c5a",
   "metadata": {},
   "outputs": [],
   "source": [
    "Sxx2=np.sum((x2-x2_)**2)"
   ]
  },
  {
   "cell_type": "code",
   "execution_count": 308,
   "id": "ce29857c",
   "metadata": {},
   "outputs": [],
   "source": [
    "Sxy2=np.sum(y2*(x2-x2_))"
   ]
  },
  {
   "cell_type": "code",
   "execution_count": 309,
   "id": "87b59e09",
   "metadata": {},
   "outputs": [],
   "source": [
    "beta12=Sxy2/Sxx2"
   ]
  },
  {
   "cell_type": "code",
   "execution_count": 310,
   "id": "567f5678",
   "metadata": {},
   "outputs": [],
   "source": [
    "beta02=y2_-(beta12*x2_)"
   ]
  },
  {
   "cell_type": "code",
   "execution_count": 311,
   "id": "df426416",
   "metadata": {},
   "outputs": [],
   "source": [
    "y2_heat=beta02+(beta12*x2)"
   ]
  },
  {
   "cell_type": "code",
   "execution_count": 312,
   "id": "17fd90d1",
   "metadata": {},
   "outputs": [
    {
     "data": {
      "text/plain": [
       "540      11.395368\n",
       "541      11.395368\n",
       "542      11.395368\n",
       "543      11.395368\n",
       "544      11.395368\n",
       "           ...    \n",
       "27791    11.371940\n",
       "27792    11.371940\n",
       "27793    11.371940\n",
       "27794    11.371940\n",
       "27795    11.371940\n",
       "Name: gdp_per_capita ($), Length: 972, dtype: float64"
      ]
     },
     "execution_count": 312,
     "metadata": {},
     "output_type": "execute_result"
    }
   ],
   "source": [
    "y2_heat"
   ]
  },
  {
   "cell_type": "code",
   "execution_count": 313,
   "id": "87f07fe6",
   "metadata": {},
   "outputs": [
    {
     "data": {
      "text/plain": [
       "[<matplotlib.lines.Line2D at 0x237c46bb2b0>]"
      ]
     },
     "execution_count": 313,
     "metadata": {},
     "output_type": "execute_result"
    },
    {
     "data": {
      "image/png": "[encoded data removed]",
      "text/plain": [
       "<Figure size 640x480 with 1 Axes>"
      ]
     },
     "metadata": {},
     "output_type": "display_data"
    }
   ],
   "source": [
    "\n",
    "plt.scatter(x2, y2, label='Data Points')\n",
    "\n",
    "\n",
    "plt.plot(x2, y2_heat, color='red', label='Fitted Line')"
   ]
  },
  {
   "cell_type": "code",
   "execution_count": 314,
   "id": "c7d24ed2",
   "metadata": {},
   "outputs": [],
   "source": [
    "SSres78=np.sum((y2-y2_heat)**2)"
   ]
  },
  {
   "cell_type": "code",
   "execution_count": 315,
   "id": "a81376d2",
   "metadata": {},
   "outputs": [
    {
     "data": {
      "text/plain": [
       "273468.2268389608"
      ]
     },
     "execution_count": 315,
     "metadata": {},
     "output_type": "execute_result"
    }
   ],
   "source": [
    "SSres78"
   ]
  },
  {
   "cell_type": "code",
   "execution_count": 316,
   "id": "d600b4fc",
   "metadata": {},
   "outputs": [],
   "source": [
    "SStol78=np.sum((y2-y2_)**2)"
   ]
  },
  {
   "cell_type": "code",
   "execution_count": 317,
   "id": "49e9cb42",
   "metadata": {},
   "outputs": [
    {
     "data": {
      "text/plain": [
       "273470.7284307614"
      ]
     },
     "execution_count": 317,
     "metadata": {},
     "output_type": "execute_result"
    }
   ],
   "source": [
    "SStol78"
   ]
  },
  {
   "cell_type": "code",
   "execution_count": 318,
   "id": "637cc417",
   "metadata": {},
   "outputs": [],
   "source": [
    "T78=SSres78/SStol78"
   ]
  },
  {
   "cell_type": "code",
   "execution_count": 319,
   "id": "fff21da8",
   "metadata": {},
   "outputs": [
    {
     "data": {
      "text/plain": [
       "0.9999908524330375"
      ]
     },
     "execution_count": 319,
     "metadata": {},
     "output_type": "execute_result"
    }
   ],
   "source": [
    "T78"
   ]
  },
  {
   "cell_type": "code",
   "execution_count": 320,
   "id": "0c2422ab",
   "metadata": {},
   "outputs": [],
   "source": [
    "R_squard78=1-T78"
   ]
  },
  {
   "cell_type": "code",
   "execution_count": 321,
   "id": "e7d1fd8d",
   "metadata": {},
   "outputs": [
    {
     "data": {
      "text/plain": [
       "9.147566962464104e-06"
      ]
     },
     "execution_count": 321,
     "metadata": {},
     "output_type": "execute_result"
    }
   ],
   "source": [
    "R_squard78"
   ]
  },
  {
   "cell_type": "markdown",
   "id": "813d8f1c",
   "metadata": {},
   "source": [
    "# data 2013 fited line "
   ]
  },
  {
   "cell_type": "code",
   "execution_count": 322,
   "id": "da11dc3b",
   "metadata": {},
   "outputs": [],
   "source": [
    "year_2013 = df[df['year'] == 2013]"
   ]
  },
  {
   "cell_type": "code",
   "execution_count": 323,
   "id": "e1fade0e",
   "metadata": {},
   "outputs": [
    {
     "data": {
      "text/html": [
       "<div>\n",
       "<style scoped>\n",
       "    .dataframe tbody tr th:only-of-type {\n",
       "        vertical-align: middle;\n",
       "    }\n",
       "\n",
       "    .dataframe tbody tr th {\n",
       "        vertical-align: top;\n",
       "    }\n",
       "\n",
       "    .dataframe thead th {\n",
       "        text-align: right;\n",
       "    }\n",
       "</style>\n",
       "<table border=\"1\" class=\"dataframe\">\n",
       "  <thead>\n",
       "    <tr style=\"text-align: right;\">\n",
       "      <th></th>\n",
       "      <th>country</th>\n",
       "      <th>year</th>\n",
       "      <th>sex</th>\n",
       "      <th>age</th>\n",
       "      <th>suicides_no</th>\n",
       "      <th>population</th>\n",
       "      <th>suicides/100k pop</th>\n",
       "      <th>country-year</th>\n",
       "      <th>HDI for year</th>\n",
       "      <th>gdp_for_year ($)</th>\n",
       "      <th>gdp_per_capita ($)</th>\n",
       "      <th>generation</th>\n",
       "    </tr>\n",
       "  </thead>\n",
       "  <tbody>\n",
       "    <tr>\n",
       "      <th>552</th>\n",
       "      <td>Antigua and Barbuda</td>\n",
       "      <td>2013</td>\n",
       "      <td>female</td>\n",
       "      <td>15-24 years</td>\n",
       "      <td>0</td>\n",
       "      <td>8494</td>\n",
       "      <td>0.0</td>\n",
       "      <td>Antigua and Barbuda2013</td>\n",
       "      <td>0.781</td>\n",
       "      <td>1,19,29,25,407</td>\n",
       "      <td>13287</td>\n",
       "      <td>Millenials</td>\n",
       "    </tr>\n",
       "    <tr>\n",
       "      <th>553</th>\n",
       "      <td>Antigua and Barbuda</td>\n",
       "      <td>2013</td>\n",
       "      <td>female</td>\n",
       "      <td>25-34 years</td>\n",
       "      <td>0</td>\n",
       "      <td>7397</td>\n",
       "      <td>0.0</td>\n",
       "      <td>Antigua and Barbuda2013</td>\n",
       "      <td>0.781</td>\n",
       "      <td>1,19,29,25,407</td>\n",
       "      <td>13287</td>\n",
       "      <td>Millenials</td>\n",
       "    </tr>\n",
       "    <tr>\n",
       "      <th>554</th>\n",
       "      <td>Antigua and Barbuda</td>\n",
       "      <td>2013</td>\n",
       "      <td>female</td>\n",
       "      <td>35-54 years</td>\n",
       "      <td>0</td>\n",
       "      <td>15236</td>\n",
       "      <td>0.0</td>\n",
       "      <td>Antigua and Barbuda2013</td>\n",
       "      <td>0.781</td>\n",
       "      <td>1,19,29,25,407</td>\n",
       "      <td>13287</td>\n",
       "      <td>Generation X</td>\n",
       "    </tr>\n",
       "    <tr>\n",
       "      <th>555</th>\n",
       "      <td>Antigua and Barbuda</td>\n",
       "      <td>2013</td>\n",
       "      <td>female</td>\n",
       "      <td>5-14 years</td>\n",
       "      <td>0</td>\n",
       "      <td>8353</td>\n",
       "      <td>0.0</td>\n",
       "      <td>Antigua and Barbuda2013</td>\n",
       "      <td>0.781</td>\n",
       "      <td>1,19,29,25,407</td>\n",
       "      <td>13287</td>\n",
       "      <td>Generation Z</td>\n",
       "    </tr>\n",
       "    <tr>\n",
       "      <th>556</th>\n",
       "      <td>Antigua and Barbuda</td>\n",
       "      <td>2013</td>\n",
       "      <td>female</td>\n",
       "      <td>55-74 years</td>\n",
       "      <td>0</td>\n",
       "      <td>5787</td>\n",
       "      <td>0.0</td>\n",
       "      <td>Antigua and Barbuda2013</td>\n",
       "      <td>0.781</td>\n",
       "      <td>1,19,29,25,407</td>\n",
       "      <td>13287</td>\n",
       "      <td>Boomers</td>\n",
       "    </tr>\n",
       "  </tbody>\n",
       "</table>\n",
       "</div>"
      ],
      "text/plain": [
       "                 country  year     sex          age  suicides_no  population  \\\n",
       "552  Antigua and Barbuda  2013  female  15-24 years            0        8494   \n",
       "553  Antigua and Barbuda  2013  female  25-34 years            0        7397   \n",
       "554  Antigua and Barbuda  2013  female  35-54 years            0       15236   \n",
       "555  Antigua and Barbuda  2013  female   5-14 years            0        8353   \n",
       "556  Antigua and Barbuda  2013  female  55-74 years            0        5787   \n",
       "\n",
       "     suicides/100k pop             country-year  HDI for year  \\\n",
       "552                0.0  Antigua and Barbuda2013         0.781   \n",
       "553                0.0  Antigua and Barbuda2013         0.781   \n",
       "554                0.0  Antigua and Barbuda2013         0.781   \n",
       "555                0.0  Antigua and Barbuda2013         0.781   \n",
       "556                0.0  Antigua and Barbuda2013         0.781   \n",
       "\n",
       "     gdp_for_year ($)   gdp_per_capita ($)    generation  \n",
       "552     1,19,29,25,407               13287    Millenials  \n",
       "553     1,19,29,25,407               13287    Millenials  \n",
       "554     1,19,29,25,407               13287  Generation X  \n",
       "555     1,19,29,25,407               13287  Generation Z  \n",
       "556     1,19,29,25,407               13287       Boomers  "
      ]
     },
     "execution_count": 323,
     "metadata": {},
     "output_type": "execute_result"
    }
   ],
   "source": [
    "year_2013.head()"
   ]
  },
  {
   "cell_type": "code",
   "execution_count": 324,
   "id": "f8707aa6",
   "metadata": {},
   "outputs": [],
   "source": [
    "x3=year_2013['gdp_per_capita ($)']"
   ]
  },
  {
   "cell_type": "code",
   "execution_count": 325,
   "id": "bb0ac64c",
   "metadata": {},
   "outputs": [],
   "source": [
    "y3=year_2013['suicides/100k pop']"
   ]
  },
  {
   "cell_type": "code",
   "execution_count": 326,
   "id": "ed524258",
   "metadata": {},
   "outputs": [],
   "source": [
    "x3_=x3.mean()"
   ]
  },
  {
   "cell_type": "code",
   "execution_count": 327,
   "id": "ec6805ad",
   "metadata": {},
   "outputs": [],
   "source": [
    "y3_=y3.mean()"
   ]
  },
  {
   "cell_type": "code",
   "execution_count": 328,
   "id": "b053d232",
   "metadata": {},
   "outputs": [],
   "source": [
    "Sxx3=np.sum((x3-x3_)**2)"
   ]
  },
  {
   "cell_type": "code",
   "execution_count": 329,
   "id": "500ac625",
   "metadata": {},
   "outputs": [],
   "source": [
    "Sxy3=np.sum(y3*(x3-x3_))"
   ]
  },
  {
   "cell_type": "code",
   "execution_count": 330,
   "id": "c117b2a5",
   "metadata": {},
   "outputs": [],
   "source": [
    "beta13=Sxy3/Sxx3"
   ]
  },
  {
   "cell_type": "code",
   "execution_count": 331,
   "id": "0a7bf544",
   "metadata": {},
   "outputs": [],
   "source": [
    "beta03=y3_-(beta13*x3_)"
   ]
  },
  {
   "cell_type": "code",
   "execution_count": 332,
   "id": "e2c9242f",
   "metadata": {},
   "outputs": [],
   "source": [
    "y3_heat=beta03+(beta13*x3)"
   ]
  },
  {
   "cell_type": "code",
   "execution_count": 333,
   "id": "57c2205c",
   "metadata": {},
   "outputs": [
    {
     "data": {
      "text/plain": [
       "552      10.976571\n",
       "553      10.976571\n",
       "554      10.976571\n",
       "555      10.976571\n",
       "556      10.976571\n",
       "           ...    \n",
       "27803    10.877338\n",
       "27804    10.877338\n",
       "27805    10.877338\n",
       "27806    10.877338\n",
       "27807    10.877338\n",
       "Name: gdp_per_capita ($), Length: 960, dtype: float64"
      ]
     },
     "execution_count": 333,
     "metadata": {},
     "output_type": "execute_result"
    }
   ],
   "source": [
    "y3_heat"
   ]
  },
  {
   "cell_type": "code",
   "execution_count": 334,
   "id": "d9434ab1",
   "metadata": {},
   "outputs": [
    {
     "data": {
      "text/plain": [
       "[<matplotlib.lines.Line2D at 0x237c5a40070>]"
      ]
     },
     "execution_count": 334,
     "metadata": {},
     "output_type": "execute_result"
    },
    {
     "data": {
      "image/png": "[encoded data removed]",
      "text/plain": [
       "<Figure size 640x480 with 1 Axes>"
      ]
     },
     "metadata": {},
     "output_type": "display_data"
    }
   ],
   "source": [
    "\n",
    "plt.scatter(x3, y3, label='Data Points')\n",
    "\n",
    "\n",
    "plt.plot(x3, y3_heat, color='red', label='Fitted Line')"
   ]
  },
  {
   "cell_type": "code",
   "execution_count": 335,
   "id": "e9cf4784",
   "metadata": {},
   "outputs": [],
   "source": [
    "SSres79=np.sum((y3-y3_heat)**2)"
   ]
  },
  {
   "cell_type": "code",
   "execution_count": 336,
   "id": "eb42b493",
   "metadata": {},
   "outputs": [
    {
     "data": {
      "text/plain": [
       "240249.04477002122"
      ]
     },
     "execution_count": 336,
     "metadata": {},
     "output_type": "execute_result"
    }
   ],
   "source": [
    "SSres79"
   ]
  },
  {
   "cell_type": "code",
   "execution_count": 337,
   "id": "7f34902a",
   "metadata": {},
   "outputs": [],
   "source": [
    "SStol79=np.sum((y3-y3_)**2)"
   ]
  },
  {
   "cell_type": "code",
   "execution_count": 338,
   "id": "f51b3892",
   "metadata": {},
   "outputs": [
    {
     "data": {
      "text/plain": [
       "240300.39439833336"
      ]
     },
     "execution_count": 338,
     "metadata": {},
     "output_type": "execute_result"
    }
   ],
   "source": [
    "SStol79"
   ]
  },
  {
   "cell_type": "code",
   "execution_count": 339,
   "id": "28319ab9",
   "metadata": {},
   "outputs": [],
   "source": [
    "T79=SSres79/SStol79"
   ]
  },
  {
   "cell_type": "code",
   "execution_count": 340,
   "id": "56953d2f",
   "metadata": {},
   "outputs": [
    {
     "data": {
      "text/plain": [
       "0.9997863106781797"
      ]
     },
     "execution_count": 340,
     "metadata": {},
     "output_type": "execute_result"
    }
   ],
   "source": [
    "T79"
   ]
  },
  {
   "cell_type": "code",
   "execution_count": 341,
   "id": "b43f1752",
   "metadata": {},
   "outputs": [],
   "source": [
    "R_squard79=1-T79"
   ]
  },
  {
   "cell_type": "code",
   "execution_count": 342,
   "id": "f19cf5cb",
   "metadata": {},
   "outputs": [
    {
     "data": {
      "text/plain": [
       "0.00021368932182030953"
      ]
     },
     "execution_count": 342,
     "metadata": {},
     "output_type": "execute_result"
    }
   ],
   "source": [
    "R_squard79"
   ]
  },
  {
   "cell_type": "code",
   "execution_count": null,
   "id": "cb9a2441",
   "metadata": {},
   "outputs": [],
   "source": []
  },
  {
   "cell_type": "markdown",
   "id": "bab297af",
   "metadata": {},
   "source": [
    "# data 2014 fited line"
   ]
  },
  {
   "cell_type": "code",
   "execution_count": 343,
   "id": "b6641fae",
   "metadata": {},
   "outputs": [],
   "source": [
    "year_2014 = df[df['year'] == 2014]"
   ]
  },
  {
   "cell_type": "code",
   "execution_count": 344,
   "id": "d1fd6a94",
   "metadata": {},
   "outputs": [
    {
     "data": {
      "text/html": [
       "<div>\n",
       "<style scoped>\n",
       "    .dataframe tbody tr th:only-of-type {\n",
       "        vertical-align: middle;\n",
       "    }\n",
       "\n",
       "    .dataframe tbody tr th {\n",
       "        vertical-align: top;\n",
       "    }\n",
       "\n",
       "    .dataframe thead th {\n",
       "        text-align: right;\n",
       "    }\n",
       "</style>\n",
       "<table border=\"1\" class=\"dataframe\">\n",
       "  <thead>\n",
       "    <tr style=\"text-align: right;\">\n",
       "      <th></th>\n",
       "      <th>country</th>\n",
       "      <th>year</th>\n",
       "      <th>sex</th>\n",
       "      <th>age</th>\n",
       "      <th>suicides_no</th>\n",
       "      <th>population</th>\n",
       "      <th>suicides/100k pop</th>\n",
       "      <th>country-year</th>\n",
       "      <th>HDI for year</th>\n",
       "      <th>gdp_for_year ($)</th>\n",
       "      <th>gdp_per_capita ($)</th>\n",
       "      <th>generation</th>\n",
       "    </tr>\n",
       "  </thead>\n",
       "  <tbody>\n",
       "    <tr>\n",
       "      <th>564</th>\n",
       "      <td>Antigua and Barbuda</td>\n",
       "      <td>2014</td>\n",
       "      <td>female</td>\n",
       "      <td>15-24 years</td>\n",
       "      <td>0</td>\n",
       "      <td>8537</td>\n",
       "      <td>0.00</td>\n",
       "      <td>Antigua and Barbuda2014</td>\n",
       "      <td>0.783</td>\n",
       "      <td>1,28,01,33,333</td>\n",
       "      <td>14093</td>\n",
       "      <td>Millenials</td>\n",
       "    </tr>\n",
       "    <tr>\n",
       "      <th>565</th>\n",
       "      <td>Antigua and Barbuda</td>\n",
       "      <td>2014</td>\n",
       "      <td>female</td>\n",
       "      <td>25-34 years</td>\n",
       "      <td>0</td>\n",
       "      <td>7578</td>\n",
       "      <td>0.00</td>\n",
       "      <td>Antigua and Barbuda2014</td>\n",
       "      <td>0.783</td>\n",
       "      <td>1,28,01,33,333</td>\n",
       "      <td>14093</td>\n",
       "      <td>Millenials</td>\n",
       "    </tr>\n",
       "    <tr>\n",
       "      <th>566</th>\n",
       "      <td>Antigua and Barbuda</td>\n",
       "      <td>2014</td>\n",
       "      <td>female</td>\n",
       "      <td>35-54 years</td>\n",
       "      <td>0</td>\n",
       "      <td>15273</td>\n",
       "      <td>0.00</td>\n",
       "      <td>Antigua and Barbuda2014</td>\n",
       "      <td>0.783</td>\n",
       "      <td>1,28,01,33,333</td>\n",
       "      <td>14093</td>\n",
       "      <td>Generation X</td>\n",
       "    </tr>\n",
       "    <tr>\n",
       "      <th>567</th>\n",
       "      <td>Antigua and Barbuda</td>\n",
       "      <td>2014</td>\n",
       "      <td>female</td>\n",
       "      <td>5-14 years</td>\n",
       "      <td>0</td>\n",
       "      <td>8296</td>\n",
       "      <td>0.00</td>\n",
       "      <td>Antigua and Barbuda2014</td>\n",
       "      <td>0.783</td>\n",
       "      <td>1,28,01,33,333</td>\n",
       "      <td>14093</td>\n",
       "      <td>Generation Z</td>\n",
       "    </tr>\n",
       "    <tr>\n",
       "      <th>568</th>\n",
       "      <td>Antigua and Barbuda</td>\n",
       "      <td>2014</td>\n",
       "      <td>female</td>\n",
       "      <td>55-74 years</td>\n",
       "      <td>0</td>\n",
       "      <td>6085</td>\n",
       "      <td>0.00</td>\n",
       "      <td>Antigua and Barbuda2014</td>\n",
       "      <td>0.783</td>\n",
       "      <td>1,28,01,33,333</td>\n",
       "      <td>14093</td>\n",
       "      <td>Boomers</td>\n",
       "    </tr>\n",
       "    <tr>\n",
       "      <th>...</th>\n",
       "      <td>...</td>\n",
       "      <td>...</td>\n",
       "      <td>...</td>\n",
       "      <td>...</td>\n",
       "      <td>...</td>\n",
       "      <td>...</td>\n",
       "      <td>...</td>\n",
       "      <td>...</td>\n",
       "      <td>...</td>\n",
       "      <td>...</td>\n",
       "      <td>...</td>\n",
       "      <td>...</td>\n",
       "    </tr>\n",
       "    <tr>\n",
       "      <th>27815</th>\n",
       "      <td>Uzbekistan</td>\n",
       "      <td>2014</td>\n",
       "      <td>female</td>\n",
       "      <td>35-54 years</td>\n",
       "      <td>107</td>\n",
       "      <td>3620833</td>\n",
       "      <td>2.96</td>\n",
       "      <td>Uzbekistan2014</td>\n",
       "      <td>0.675</td>\n",
       "      <td>63,06,70,77,179</td>\n",
       "      <td>2309</td>\n",
       "      <td>Generation X</td>\n",
       "    </tr>\n",
       "    <tr>\n",
       "      <th>27816</th>\n",
       "      <td>Uzbekistan</td>\n",
       "      <td>2014</td>\n",
       "      <td>female</td>\n",
       "      <td>75+ years</td>\n",
       "      <td>9</td>\n",
       "      <td>348465</td>\n",
       "      <td>2.58</td>\n",
       "      <td>Uzbekistan2014</td>\n",
       "      <td>0.675</td>\n",
       "      <td>63,06,70,77,179</td>\n",
       "      <td>2309</td>\n",
       "      <td>Silent</td>\n",
       "    </tr>\n",
       "    <tr>\n",
       "      <th>27817</th>\n",
       "      <td>Uzbekistan</td>\n",
       "      <td>2014</td>\n",
       "      <td>male</td>\n",
       "      <td>5-14 years</td>\n",
       "      <td>60</td>\n",
       "      <td>2762158</td>\n",
       "      <td>2.17</td>\n",
       "      <td>Uzbekistan2014</td>\n",
       "      <td>0.675</td>\n",
       "      <td>63,06,70,77,179</td>\n",
       "      <td>2309</td>\n",
       "      <td>Generation Z</td>\n",
       "    </tr>\n",
       "    <tr>\n",
       "      <th>27818</th>\n",
       "      <td>Uzbekistan</td>\n",
       "      <td>2014</td>\n",
       "      <td>female</td>\n",
       "      <td>5-14 years</td>\n",
       "      <td>44</td>\n",
       "      <td>2631600</td>\n",
       "      <td>1.67</td>\n",
       "      <td>Uzbekistan2014</td>\n",
       "      <td>0.675</td>\n",
       "      <td>63,06,70,77,179</td>\n",
       "      <td>2309</td>\n",
       "      <td>Generation Z</td>\n",
       "    </tr>\n",
       "    <tr>\n",
       "      <th>27819</th>\n",
       "      <td>Uzbekistan</td>\n",
       "      <td>2014</td>\n",
       "      <td>female</td>\n",
       "      <td>55-74 years</td>\n",
       "      <td>21</td>\n",
       "      <td>1438935</td>\n",
       "      <td>1.46</td>\n",
       "      <td>Uzbekistan2014</td>\n",
       "      <td>0.675</td>\n",
       "      <td>63,06,70,77,179</td>\n",
       "      <td>2309</td>\n",
       "      <td>Boomers</td>\n",
       "    </tr>\n",
       "  </tbody>\n",
       "</table>\n",
       "<p>936 rows × 12 columns</p>\n",
       "</div>"
      ],
      "text/plain": [
       "                   country  year     sex          age  suicides_no  \\\n",
       "564    Antigua and Barbuda  2014  female  15-24 years            0   \n",
       "565    Antigua and Barbuda  2014  female  25-34 years            0   \n",
       "566    Antigua and Barbuda  2014  female  35-54 years            0   \n",
       "567    Antigua and Barbuda  2014  female   5-14 years            0   \n",
       "568    Antigua and Barbuda  2014  female  55-74 years            0   \n",
       "...                    ...   ...     ...          ...          ...   \n",
       "27815           Uzbekistan  2014  female  35-54 years          107   \n",
       "27816           Uzbekistan  2014  female    75+ years            9   \n",
       "27817           Uzbekistan  2014    male   5-14 years           60   \n",
       "27818           Uzbekistan  2014  female   5-14 years           44   \n",
       "27819           Uzbekistan  2014  female  55-74 years           21   \n",
       "\n",
       "       population  suicides/100k pop             country-year  HDI for year  \\\n",
       "564          8537               0.00  Antigua and Barbuda2014         0.783   \n",
       "565          7578               0.00  Antigua and Barbuda2014         0.783   \n",
       "566         15273               0.00  Antigua and Barbuda2014         0.783   \n",
       "567          8296               0.00  Antigua and Barbuda2014         0.783   \n",
       "568          6085               0.00  Antigua and Barbuda2014         0.783   \n",
       "...           ...                ...                      ...           ...   \n",
       "27815     3620833               2.96           Uzbekistan2014         0.675   \n",
       "27816      348465               2.58           Uzbekistan2014         0.675   \n",
       "27817     2762158               2.17           Uzbekistan2014         0.675   \n",
       "27818     2631600               1.67           Uzbekistan2014         0.675   \n",
       "27819     1438935               1.46           Uzbekistan2014         0.675   \n",
       "\n",
       "       gdp_for_year ($)   gdp_per_capita ($)    generation  \n",
       "564       1,28,01,33,333               14093    Millenials  \n",
       "565       1,28,01,33,333               14093    Millenials  \n",
       "566       1,28,01,33,333               14093  Generation X  \n",
       "567       1,28,01,33,333               14093  Generation Z  \n",
       "568       1,28,01,33,333               14093       Boomers  \n",
       "...                  ...                 ...           ...  \n",
       "27815    63,06,70,77,179                2309  Generation X  \n",
       "27816    63,06,70,77,179                2309        Silent  \n",
       "27817    63,06,70,77,179                2309  Generation Z  \n",
       "27818    63,06,70,77,179                2309  Generation Z  \n",
       "27819    63,06,70,77,179                2309       Boomers  \n",
       "\n",
       "[936 rows x 12 columns]"
      ]
     },
     "execution_count": 344,
     "metadata": {},
     "output_type": "execute_result"
    }
   ],
   "source": [
    "year_2014 "
   ]
  },
  {
   "cell_type": "code",
   "execution_count": 345,
   "id": "90ed8c42",
   "metadata": {},
   "outputs": [],
   "source": [
    "x4=year_2014['gdp_per_capita ($)']"
   ]
  },
  {
   "cell_type": "code",
   "execution_count": 346,
   "id": "48df6ec8",
   "metadata": {},
   "outputs": [],
   "source": [
    "y4=year_2014['suicides/100k pop']"
   ]
  },
  {
   "cell_type": "code",
   "execution_count": 347,
   "id": "4e126d68",
   "metadata": {},
   "outputs": [],
   "source": [
    "x4_=x4.mean()"
   ]
  },
  {
   "cell_type": "code",
   "execution_count": 348,
   "id": "1aebf0ce",
   "metadata": {},
   "outputs": [],
   "source": [
    "y4_=y4.mean()"
   ]
  },
  {
   "cell_type": "code",
   "execution_count": 349,
   "id": "46bbedef",
   "metadata": {},
   "outputs": [],
   "source": [
    "Sxx4=np.sum((x4-x4_)**2)"
   ]
  },
  {
   "cell_type": "code",
   "execution_count": 350,
   "id": "d67e4065",
   "metadata": {},
   "outputs": [],
   "source": [
    "Sxy4=np.sum(y4*(x4-x4_))"
   ]
  },
  {
   "cell_type": "code",
   "execution_count": 351,
   "id": "c946ab27",
   "metadata": {},
   "outputs": [],
   "source": [
    "beta14=Sxy4/Sxx4"
   ]
  },
  {
   "cell_type": "code",
   "execution_count": 352,
   "id": "aeec9a12",
   "metadata": {},
   "outputs": [],
   "source": [
    "beta04=y4_-(beta14*x4_)"
   ]
  },
  {
   "cell_type": "code",
   "execution_count": 353,
   "id": "9ac222bb",
   "metadata": {},
   "outputs": [],
   "source": [
    "y4_heat=beta04+(beta14*x4)"
   ]
  },
  {
   "cell_type": "code",
   "execution_count": 354,
   "id": "ade8637a",
   "metadata": {},
   "outputs": [
    {
     "data": {
      "text/plain": [
       "564      10.759839\n",
       "565      10.759839\n",
       "566      10.759839\n",
       "567      10.759839\n",
       "568      10.759839\n",
       "           ...    \n",
       "27815    10.537349\n",
       "27816    10.537349\n",
       "27817    10.537349\n",
       "27818    10.537349\n",
       "27819    10.537349\n",
       "Name: gdp_per_capita ($), Length: 936, dtype: float64"
      ]
     },
     "execution_count": 354,
     "metadata": {},
     "output_type": "execute_result"
    }
   ],
   "source": [
    "y4_heat"
   ]
  },
  {
   "cell_type": "code",
   "execution_count": 355,
   "id": "a1be26c6",
   "metadata": {},
   "outputs": [
    {
     "data": {
      "text/plain": [
       "[<matplotlib.lines.Line2D at 0x237c5a9f850>]"
      ]
     },
     "execution_count": 355,
     "metadata": {},
     "output_type": "execute_result"
    },
    {
     "data": {
      "image/png": "[encoded data removed]",
      "text/plain": [
       "<Figure size 640x480 with 1 Axes>"
      ]
     },
     "metadata": {},
     "output_type": "display_data"
    }
   ],
   "source": [
    "plt.scatter(x4, y4, label='Data Points')\n",
    "\n",
    "\n",
    "plt.plot(x4, y4_heat, color='red', label='Fitted Line')"
   ]
  },
  {
   "cell_type": "code",
   "execution_count": 356,
   "id": "ee0fc4da",
   "metadata": {},
   "outputs": [],
   "source": [
    "SSres80=np.sum((y4-y4_heat)**2)"
   ]
  },
  {
   "cell_type": "code",
   "execution_count": 357,
   "id": "ff4d46c4",
   "metadata": {},
   "outputs": [
    {
     "data": {
      "text/plain": [
       "214746.10214580552"
      ]
     },
     "execution_count": 357,
     "metadata": {},
     "output_type": "execute_result"
    }
   ],
   "source": [
    "SSres80\n"
   ]
  },
  {
   "cell_type": "code",
   "execution_count": 358,
   "id": "631d7141",
   "metadata": {},
   "outputs": [],
   "source": [
    "SStol80=np.sum((y4-y4_)**2)"
   ]
  },
  {
   "cell_type": "code",
   "execution_count": 359,
   "id": "0e0806cb",
   "metadata": {},
   "outputs": [
    {
     "data": {
      "text/plain": [
       "214975.16609476495"
      ]
     },
     "execution_count": 359,
     "metadata": {},
     "output_type": "execute_result"
    }
   ],
   "source": [
    "SStol80"
   ]
  },
  {
   "cell_type": "code",
   "execution_count": 360,
   "id": "3f13819c",
   "metadata": {},
   "outputs": [],
   "source": [
    "T80=SSres80/SStol80"
   ]
  },
  {
   "cell_type": "code",
   "execution_count": 361,
   "id": "d181793d",
   "metadata": {},
   "outputs": [
    {
     "data": {
      "text/plain": [
       "0.9989344632074457"
      ]
     },
     "execution_count": 361,
     "metadata": {},
     "output_type": "execute_result"
    }
   ],
   "source": [
    "T80\n"
   ]
  },
  {
   "cell_type": "code",
   "execution_count": 362,
   "id": "f486bef8",
   "metadata": {},
   "outputs": [],
   "source": [
    "R_squard80=1-T80"
   ]
  },
  {
   "cell_type": "code",
   "execution_count": 363,
   "id": "b9261b64",
   "metadata": {},
   "outputs": [
    {
     "data": {
      "text/plain": [
       "0.001065536792554278"
      ]
     },
     "execution_count": 363,
     "metadata": {},
     "output_type": "execute_result"
    }
   ],
   "source": [
    "R_squard80\n"
   ]
  },
  {
   "cell_type": "code",
   "execution_count": 364,
   "id": "eed433b1",
   "metadata": {},
   "outputs": [
    {
     "data": {
      "image/png": "[encoded data removed]",
      "text/plain": [
       "<Figure size 640x480 with 1 Axes>"
      ]
     },
     "metadata": {},
     "output_type": "display_data"
    }
   ],
   "source": [
    "\n",
    "plt.scatter(x='gdp_per_capita ($)', y='suicides/100k pop',data=df1 ,label='Data Points',c='b')\n",
    "plt.plot(x1,Y_het ,label = \"line 2011\")\n",
    "plt.plot(x2,y2_heat, label = \"line 2012\")\n",
    "plt.plot(x3,y3_heat, label = \"line2013\")\n",
    "plt.plot(x4, y4_heat, label = \"line 2014\")\n",
    "plt.legend()\n",
    "plt.show()"
   ]
  },
  {
   "cell_type": "markdown",
   "id": "bd26fe46",
   "metadata": {},
   "source": [
    "# c)...."
   ]
  },
  {
   "cell_type": "code",
   "execution_count": 365,
   "id": "306f5ded",
   "metadata": {},
   "outputs": [],
   "source": [
    "year_2014 = df[df['year'] == 2014]"
   ]
  },
  {
   "cell_type": "code",
   "execution_count": 366,
   "id": "9bb38a01",
   "metadata": {},
   "outputs": [],
   "source": [
    "data=year_2014"
   ]
  },
  {
   "cell_type": "code",
   "execution_count": 367,
   "id": "4d264024",
   "metadata": {},
   "outputs": [
    {
     "data": {
      "text/html": [
       "<div>\n",
       "<style scoped>\n",
       "    .dataframe tbody tr th:only-of-type {\n",
       "        vertical-align: middle;\n",
       "    }\n",
       "\n",
       "    .dataframe tbody tr th {\n",
       "        vertical-align: top;\n",
       "    }\n",
       "\n",
       "    .dataframe thead th {\n",
       "        text-align: right;\n",
       "    }\n",
       "</style>\n",
       "<table border=\"1\" class=\"dataframe\">\n",
       "  <thead>\n",
       "    <tr style=\"text-align: right;\">\n",
       "      <th></th>\n",
       "      <th>country</th>\n",
       "      <th>year</th>\n",
       "      <th>sex</th>\n",
       "      <th>age</th>\n",
       "      <th>suicides_no</th>\n",
       "      <th>population</th>\n",
       "      <th>suicides/100k pop</th>\n",
       "      <th>country-year</th>\n",
       "      <th>HDI for year</th>\n",
       "      <th>gdp_for_year ($)</th>\n",
       "      <th>gdp_per_capita ($)</th>\n",
       "      <th>generation</th>\n",
       "    </tr>\n",
       "  </thead>\n",
       "  <tbody>\n",
       "    <tr>\n",
       "      <th>564</th>\n",
       "      <td>Antigua and Barbuda</td>\n",
       "      <td>2014</td>\n",
       "      <td>female</td>\n",
       "      <td>15-24 years</td>\n",
       "      <td>0</td>\n",
       "      <td>8537</td>\n",
       "      <td>0.00</td>\n",
       "      <td>Antigua and Barbuda2014</td>\n",
       "      <td>0.783</td>\n",
       "      <td>1,28,01,33,333</td>\n",
       "      <td>14093</td>\n",
       "      <td>Millenials</td>\n",
       "    </tr>\n",
       "    <tr>\n",
       "      <th>565</th>\n",
       "      <td>Antigua and Barbuda</td>\n",
       "      <td>2014</td>\n",
       "      <td>female</td>\n",
       "      <td>25-34 years</td>\n",
       "      <td>0</td>\n",
       "      <td>7578</td>\n",
       "      <td>0.00</td>\n",
       "      <td>Antigua and Barbuda2014</td>\n",
       "      <td>0.783</td>\n",
       "      <td>1,28,01,33,333</td>\n",
       "      <td>14093</td>\n",
       "      <td>Millenials</td>\n",
       "    </tr>\n",
       "    <tr>\n",
       "      <th>566</th>\n",
       "      <td>Antigua and Barbuda</td>\n",
       "      <td>2014</td>\n",
       "      <td>female</td>\n",
       "      <td>35-54 years</td>\n",
       "      <td>0</td>\n",
       "      <td>15273</td>\n",
       "      <td>0.00</td>\n",
       "      <td>Antigua and Barbuda2014</td>\n",
       "      <td>0.783</td>\n",
       "      <td>1,28,01,33,333</td>\n",
       "      <td>14093</td>\n",
       "      <td>Generation X</td>\n",
       "    </tr>\n",
       "    <tr>\n",
       "      <th>567</th>\n",
       "      <td>Antigua and Barbuda</td>\n",
       "      <td>2014</td>\n",
       "      <td>female</td>\n",
       "      <td>5-14 years</td>\n",
       "      <td>0</td>\n",
       "      <td>8296</td>\n",
       "      <td>0.00</td>\n",
       "      <td>Antigua and Barbuda2014</td>\n",
       "      <td>0.783</td>\n",
       "      <td>1,28,01,33,333</td>\n",
       "      <td>14093</td>\n",
       "      <td>Generation Z</td>\n",
       "    </tr>\n",
       "    <tr>\n",
       "      <th>568</th>\n",
       "      <td>Antigua and Barbuda</td>\n",
       "      <td>2014</td>\n",
       "      <td>female</td>\n",
       "      <td>55-74 years</td>\n",
       "      <td>0</td>\n",
       "      <td>6085</td>\n",
       "      <td>0.00</td>\n",
       "      <td>Antigua and Barbuda2014</td>\n",
       "      <td>0.783</td>\n",
       "      <td>1,28,01,33,333</td>\n",
       "      <td>14093</td>\n",
       "      <td>Boomers</td>\n",
       "    </tr>\n",
       "    <tr>\n",
       "      <th>...</th>\n",
       "      <td>...</td>\n",
       "      <td>...</td>\n",
       "      <td>...</td>\n",
       "      <td>...</td>\n",
       "      <td>...</td>\n",
       "      <td>...</td>\n",
       "      <td>...</td>\n",
       "      <td>...</td>\n",
       "      <td>...</td>\n",
       "      <td>...</td>\n",
       "      <td>...</td>\n",
       "      <td>...</td>\n",
       "    </tr>\n",
       "    <tr>\n",
       "      <th>27815</th>\n",
       "      <td>Uzbekistan</td>\n",
       "      <td>2014</td>\n",
       "      <td>female</td>\n",
       "      <td>35-54 years</td>\n",
       "      <td>107</td>\n",
       "      <td>3620833</td>\n",
       "      <td>2.96</td>\n",
       "      <td>Uzbekistan2014</td>\n",
       "      <td>0.675</td>\n",
       "      <td>63,06,70,77,179</td>\n",
       "      <td>2309</td>\n",
       "      <td>Generation X</td>\n",
       "    </tr>\n",
       "    <tr>\n",
       "      <th>27816</th>\n",
       "      <td>Uzbekistan</td>\n",
       "      <td>2014</td>\n",
       "      <td>female</td>\n",
       "      <td>75+ years</td>\n",
       "      <td>9</td>\n",
       "      <td>348465</td>\n",
       "      <td>2.58</td>\n",
       "      <td>Uzbekistan2014</td>\n",
       "      <td>0.675</td>\n",
       "      <td>63,06,70,77,179</td>\n",
       "      <td>2309</td>\n",
       "      <td>Silent</td>\n",
       "    </tr>\n",
       "    <tr>\n",
       "      <th>27817</th>\n",
       "      <td>Uzbekistan</td>\n",
       "      <td>2014</td>\n",
       "      <td>male</td>\n",
       "      <td>5-14 years</td>\n",
       "      <td>60</td>\n",
       "      <td>2762158</td>\n",
       "      <td>2.17</td>\n",
       "      <td>Uzbekistan2014</td>\n",
       "      <td>0.675</td>\n",
       "      <td>63,06,70,77,179</td>\n",
       "      <td>2309</td>\n",
       "      <td>Generation Z</td>\n",
       "    </tr>\n",
       "    <tr>\n",
       "      <th>27818</th>\n",
       "      <td>Uzbekistan</td>\n",
       "      <td>2014</td>\n",
       "      <td>female</td>\n",
       "      <td>5-14 years</td>\n",
       "      <td>44</td>\n",
       "      <td>2631600</td>\n",
       "      <td>1.67</td>\n",
       "      <td>Uzbekistan2014</td>\n",
       "      <td>0.675</td>\n",
       "      <td>63,06,70,77,179</td>\n",
       "      <td>2309</td>\n",
       "      <td>Generation Z</td>\n",
       "    </tr>\n",
       "    <tr>\n",
       "      <th>27819</th>\n",
       "      <td>Uzbekistan</td>\n",
       "      <td>2014</td>\n",
       "      <td>female</td>\n",
       "      <td>55-74 years</td>\n",
       "      <td>21</td>\n",
       "      <td>1438935</td>\n",
       "      <td>1.46</td>\n",
       "      <td>Uzbekistan2014</td>\n",
       "      <td>0.675</td>\n",
       "      <td>63,06,70,77,179</td>\n",
       "      <td>2309</td>\n",
       "      <td>Boomers</td>\n",
       "    </tr>\n",
       "  </tbody>\n",
       "</table>\n",
       "<p>936 rows × 12 columns</p>\n",
       "</div>"
      ],
      "text/plain": [
       "                   country  year     sex          age  suicides_no  \\\n",
       "564    Antigua and Barbuda  2014  female  15-24 years            0   \n",
       "565    Antigua and Barbuda  2014  female  25-34 years            0   \n",
       "566    Antigua and Barbuda  2014  female  35-54 years            0   \n",
       "567    Antigua and Barbuda  2014  female   5-14 years            0   \n",
       "568    Antigua and Barbuda  2014  female  55-74 years            0   \n",
       "...                    ...   ...     ...          ...          ...   \n",
       "27815           Uzbekistan  2014  female  35-54 years          107   \n",
       "27816           Uzbekistan  2014  female    75+ years            9   \n",
       "27817           Uzbekistan  2014    male   5-14 years           60   \n",
       "27818           Uzbekistan  2014  female   5-14 years           44   \n",
       "27819           Uzbekistan  2014  female  55-74 years           21   \n",
       "\n",
       "       population  suicides/100k pop             country-year  HDI for year  \\\n",
       "564          8537               0.00  Antigua and Barbuda2014         0.783   \n",
       "565          7578               0.00  Antigua and Barbuda2014         0.783   \n",
       "566         15273               0.00  Antigua and Barbuda2014         0.783   \n",
       "567          8296               0.00  Antigua and Barbuda2014         0.783   \n",
       "568          6085               0.00  Antigua and Barbuda2014         0.783   \n",
       "...           ...                ...                      ...           ...   \n",
       "27815     3620833               2.96           Uzbekistan2014         0.675   \n",
       "27816      348465               2.58           Uzbekistan2014         0.675   \n",
       "27817     2762158               2.17           Uzbekistan2014         0.675   \n",
       "27818     2631600               1.67           Uzbekistan2014         0.675   \n",
       "27819     1438935               1.46           Uzbekistan2014         0.675   \n",
       "\n",
       "       gdp_for_year ($)   gdp_per_capita ($)    generation  \n",
       "564       1,28,01,33,333               14093    Millenials  \n",
       "565       1,28,01,33,333               14093    Millenials  \n",
       "566       1,28,01,33,333               14093  Generation X  \n",
       "567       1,28,01,33,333               14093  Generation Z  \n",
       "568       1,28,01,33,333               14093       Boomers  \n",
       "...                  ...                 ...           ...  \n",
       "27815    63,06,70,77,179                2309  Generation X  \n",
       "27816    63,06,70,77,179                2309        Silent  \n",
       "27817    63,06,70,77,179                2309  Generation Z  \n",
       "27818    63,06,70,77,179                2309  Generation Z  \n",
       "27819    63,06,70,77,179                2309       Boomers  \n",
       "\n",
       "[936 rows x 12 columns]"
      ]
     },
     "execution_count": 367,
     "metadata": {},
     "output_type": "execute_result"
    }
   ],
   "source": [
    "data"
   ]
  },
  {
   "cell_type": "code",
   "execution_count": 368,
   "id": "45e27be0",
   "metadata": {},
   "outputs": [],
   "source": [
    "x5=data['HDI for year']"
   ]
  },
  {
   "cell_type": "code",
   "execution_count": 369,
   "id": "fcc63d81",
   "metadata": {},
   "outputs": [
    {
     "data": {
      "text/plain": [
       "564      0.783\n",
       "565      0.783\n",
       "566      0.783\n",
       "567      0.783\n",
       "568      0.783\n",
       "         ...  \n",
       "27815    0.675\n",
       "27816    0.675\n",
       "27817    0.675\n",
       "27818    0.675\n",
       "27819    0.675\n",
       "Name: HDI for year, Length: 936, dtype: float64"
      ]
     },
     "execution_count": 369,
     "metadata": {},
     "output_type": "execute_result"
    }
   ],
   "source": [
    "x5"
   ]
  },
  {
   "cell_type": "code",
   "execution_count": 370,
   "id": "987e8f9d",
   "metadata": {},
   "outputs": [
    {
     "data": {
      "text/plain": [
       "36"
      ]
     },
     "execution_count": 370,
     "metadata": {},
     "output_type": "execute_result"
    }
   ],
   "source": [
    "x5.isnull().sum()"
   ]
  },
  {
   "cell_type": "code",
   "execution_count": 371,
   "id": "5ac0483c",
   "metadata": {},
   "outputs": [],
   "source": [
    "y5=data['gdp_per_capita ($)']"
   ]
  },
  {
   "cell_type": "code",
   "execution_count": 372,
   "id": "bce64330",
   "metadata": {},
   "outputs": [
    {
     "data": {
      "text/plain": [
       "564      14093\n",
       "565      14093\n",
       "566      14093\n",
       "567      14093\n",
       "568      14093\n",
       "         ...  \n",
       "27815     2309\n",
       "27816     2309\n",
       "27817     2309\n",
       "27818     2309\n",
       "27819     2309\n",
       "Name: gdp_per_capita ($), Length: 936, dtype: int64"
      ]
     },
     "execution_count": 372,
     "metadata": {},
     "output_type": "execute_result"
    }
   ],
   "source": [
    "y5"
   ]
  },
  {
   "cell_type": "code",
   "execution_count": 373,
   "id": "3330ab6e",
   "metadata": {},
   "outputs": [
    {
     "data": {
      "text/plain": [
       "0"
      ]
     },
     "execution_count": 373,
     "metadata": {},
     "output_type": "execute_result"
    }
   ],
   "source": [
    "y5.isnull().sum()"
   ]
  },
  {
   "cell_type": "code",
   "execution_count": 374,
   "id": "f872df9d",
   "metadata": {},
   "outputs": [],
   "source": [
    "x5_=x5.mean()"
   ]
  },
  {
   "cell_type": "code",
   "execution_count": 375,
   "id": "0a3f4da0",
   "metadata": {},
   "outputs": [],
   "source": [
    "y5_=y5.mean()"
   ]
  },
  {
   "cell_type": "code",
   "execution_count": 376,
   "id": "acec64a1",
   "metadata": {},
   "outputs": [],
   "source": [
    "Sxx5=np.sum((x5-x5_)**2)"
   ]
  },
  {
   "cell_type": "code",
   "execution_count": 377,
   "id": "779d5bed",
   "metadata": {},
   "outputs": [],
   "source": [
    "Sxy5=np.sum(y5*(x5-x5_))"
   ]
  },
  {
   "cell_type": "code",
   "execution_count": 378,
   "id": "1e390406",
   "metadata": {},
   "outputs": [],
   "source": [
    "beta51=Sxy5/Sxx5"
   ]
  },
  {
   "cell_type": "code",
   "execution_count": 379,
   "id": "e2bf3381",
   "metadata": {},
   "outputs": [],
   "source": [
    "beta50=y5_-(beta51*x5_)"
   ]
  },
  {
   "cell_type": "code",
   "execution_count": 380,
   "id": "2c868e91",
   "metadata": {},
   "outputs": [],
   "source": [
    "y5_het=beta50+(beta51*x5)"
   ]
  },
  {
   "cell_type": "code",
   "execution_count": 381,
   "id": "5c0989b8",
   "metadata": {},
   "outputs": [
    {
     "data": {
      "text/plain": [
       "564      20934.339882\n",
       "565      20934.339882\n",
       "566      20934.339882\n",
       "567      20934.339882\n",
       "568      20934.339882\n",
       "             ...     \n",
       "27815    -6513.407902\n",
       "27816    -6513.407902\n",
       "27817    -6513.407902\n",
       "27818    -6513.407902\n",
       "27819    -6513.407902\n",
       "Name: HDI for year, Length: 936, dtype: float64"
      ]
     },
     "execution_count": 381,
     "metadata": {},
     "output_type": "execute_result"
    }
   ],
   "source": [
    "y5_het"
   ]
  },
  {
   "cell_type": "code",
   "execution_count": 382,
   "id": "0862f3f4",
   "metadata": {},
   "outputs": [
    {
     "data": {
      "text/plain": [
       "<matplotlib.legend.Legend at 0x237c7efee60>"
      ]
     },
     "execution_count": 382,
     "metadata": {},
     "output_type": "execute_result"
    },
    {
     "data": {
      "image/png": "[encoded data removed]",
      "text/plain": [
       "<Figure size 640x480 with 1 Axes>"
      ]
     },
     "metadata": {},
     "output_type": "display_data"
    }
   ],
   "source": [
    "\n",
    "plt.scatter(x5, y5, label='Data Points')\n",
    "\n",
    "\n",
    "plt.plot(x5, y5_het, color='red', label='Fitted Line')\n",
    "plt.xlabel('gdp_per_capita ($)')\n",
    "plt.ylabel('HDI for year')\n",
    "plt.legend()"
   ]
  },
  {
   "cell_type": "code",
   "execution_count": 383,
   "id": "0cc0d99b",
   "metadata": {},
   "outputs": [],
   "source": [
    "SSres=np.sum((y5-y5_het)**2)"
   ]
  },
  {
   "cell_type": "code",
   "execution_count": 384,
   "id": "94ae5232",
   "metadata": {},
   "outputs": [
    {
     "data": {
      "text/plain": [
       "255273162568.79068"
      ]
     },
     "execution_count": 384,
     "metadata": {},
     "output_type": "execute_result"
    }
   ],
   "source": [
    "SSres"
   ]
  },
  {
   "cell_type": "code",
   "execution_count": 385,
   "id": "1add14dc",
   "metadata": {},
   "outputs": [],
   "source": [
    "SStol=np.sum((y5-y5_)**2)"
   ]
  },
  {
   "cell_type": "code",
   "execution_count": 386,
   "id": "0601f000",
   "metadata": {},
   "outputs": [
    {
     "data": {
      "text/plain": [
       "642573904265.3845"
      ]
     },
     "execution_count": 386,
     "metadata": {},
     "output_type": "execute_result"
    }
   ],
   "source": [
    "SStol"
   ]
  },
  {
   "cell_type": "code",
   "execution_count": 387,
   "id": "62e423b0",
   "metadata": {},
   "outputs": [],
   "source": [
    "T=SSres/SStol"
   ]
  },
  {
   "cell_type": "code",
   "execution_count": 388,
   "id": "47fdf153",
   "metadata": {},
   "outputs": [
    {
     "data": {
      "text/plain": [
       "0.3972666192546815"
      ]
     },
     "execution_count": 388,
     "metadata": {},
     "output_type": "execute_result"
    }
   ],
   "source": [
    "T"
   ]
  },
  {
   "cell_type": "code",
   "execution_count": 389,
   "id": "be3c5c03",
   "metadata": {},
   "outputs": [],
   "source": [
    "R_squard=1-T"
   ]
  },
  {
   "cell_type": "code",
   "execution_count": 390,
   "id": "ddcc7be6",
   "metadata": {},
   "outputs": [
    {
     "data": {
      "text/plain": [
       "0.6027333807453186"
      ]
     },
     "execution_count": 390,
     "metadata": {},
     "output_type": "execute_result"
    }
   ],
   "source": [
    "R_squard"
   ]
  },
  {
   "cell_type": "code",
   "execution_count": 391,
   "id": "d87f14ea",
   "metadata": {},
   "outputs": [],
   "source": [
    "MSres=SSres/934"
   ]
  },
  {
   "cell_type": "code",
   "execution_count": 392,
   "id": "17e3acfd",
   "metadata": {},
   "outputs": [
    {
     "data": {
      "text/plain": [
       "273311737.22568595"
      ]
     },
     "execution_count": 392,
     "metadata": {},
     "output_type": "execute_result"
    }
   ],
   "source": [
    "MSres"
   ]
  },
  {
   "cell_type": "markdown",
   "id": "769bc27f",
   "metadata": {},
   "source": [
    "# D)"
   ]
  },
  {
   "cell_type": "code",
   "execution_count": 393,
   "id": "ef3ef3ed",
   "metadata": {},
   "outputs": [],
   "source": [
    "year_2014 = df[df['year'] == 2014]"
   ]
  },
  {
   "cell_type": "code",
   "execution_count": 394,
   "id": "0343aec6",
   "metadata": {},
   "outputs": [],
   "source": [
    "data=year_2014 "
   ]
  },
  {
   "cell_type": "code",
   "execution_count": 395,
   "id": "81758e27",
   "metadata": {},
   "outputs": [
    {
     "data": {
      "text/html": [
       "<div>\n",
       "<style scoped>\n",
       "    .dataframe tbody tr th:only-of-type {\n",
       "        vertical-align: middle;\n",
       "    }\n",
       "\n",
       "    .dataframe tbody tr th {\n",
       "        vertical-align: top;\n",
       "    }\n",
       "\n",
       "    .dataframe thead th {\n",
       "        text-align: right;\n",
       "    }\n",
       "</style>\n",
       "<table border=\"1\" class=\"dataframe\">\n",
       "  <thead>\n",
       "    <tr style=\"text-align: right;\">\n",
       "      <th></th>\n",
       "      <th>country</th>\n",
       "      <th>year</th>\n",
       "      <th>sex</th>\n",
       "      <th>age</th>\n",
       "      <th>suicides_no</th>\n",
       "      <th>population</th>\n",
       "      <th>suicides/100k pop</th>\n",
       "      <th>country-year</th>\n",
       "      <th>HDI for year</th>\n",
       "      <th>gdp_for_year ($)</th>\n",
       "      <th>gdp_per_capita ($)</th>\n",
       "      <th>generation</th>\n",
       "    </tr>\n",
       "  </thead>\n",
       "  <tbody>\n",
       "    <tr>\n",
       "      <th>564</th>\n",
       "      <td>Antigua and Barbuda</td>\n",
       "      <td>2014</td>\n",
       "      <td>female</td>\n",
       "      <td>15-24 years</td>\n",
       "      <td>0</td>\n",
       "      <td>8537</td>\n",
       "      <td>0.0</td>\n",
       "      <td>Antigua and Barbuda2014</td>\n",
       "      <td>0.783</td>\n",
       "      <td>1,28,01,33,333</td>\n",
       "      <td>14093</td>\n",
       "      <td>Millenials</td>\n",
       "    </tr>\n",
       "    <tr>\n",
       "      <th>565</th>\n",
       "      <td>Antigua and Barbuda</td>\n",
       "      <td>2014</td>\n",
       "      <td>female</td>\n",
       "      <td>25-34 years</td>\n",
       "      <td>0</td>\n",
       "      <td>7578</td>\n",
       "      <td>0.0</td>\n",
       "      <td>Antigua and Barbuda2014</td>\n",
       "      <td>0.783</td>\n",
       "      <td>1,28,01,33,333</td>\n",
       "      <td>14093</td>\n",
       "      <td>Millenials</td>\n",
       "    </tr>\n",
       "    <tr>\n",
       "      <th>566</th>\n",
       "      <td>Antigua and Barbuda</td>\n",
       "      <td>2014</td>\n",
       "      <td>female</td>\n",
       "      <td>35-54 years</td>\n",
       "      <td>0</td>\n",
       "      <td>15273</td>\n",
       "      <td>0.0</td>\n",
       "      <td>Antigua and Barbuda2014</td>\n",
       "      <td>0.783</td>\n",
       "      <td>1,28,01,33,333</td>\n",
       "      <td>14093</td>\n",
       "      <td>Generation X</td>\n",
       "    </tr>\n",
       "    <tr>\n",
       "      <th>567</th>\n",
       "      <td>Antigua and Barbuda</td>\n",
       "      <td>2014</td>\n",
       "      <td>female</td>\n",
       "      <td>5-14 years</td>\n",
       "      <td>0</td>\n",
       "      <td>8296</td>\n",
       "      <td>0.0</td>\n",
       "      <td>Antigua and Barbuda2014</td>\n",
       "      <td>0.783</td>\n",
       "      <td>1,28,01,33,333</td>\n",
       "      <td>14093</td>\n",
       "      <td>Generation Z</td>\n",
       "    </tr>\n",
       "    <tr>\n",
       "      <th>568</th>\n",
       "      <td>Antigua and Barbuda</td>\n",
       "      <td>2014</td>\n",
       "      <td>female</td>\n",
       "      <td>55-74 years</td>\n",
       "      <td>0</td>\n",
       "      <td>6085</td>\n",
       "      <td>0.0</td>\n",
       "      <td>Antigua and Barbuda2014</td>\n",
       "      <td>0.783</td>\n",
       "      <td>1,28,01,33,333</td>\n",
       "      <td>14093</td>\n",
       "      <td>Boomers</td>\n",
       "    </tr>\n",
       "  </tbody>\n",
       "</table>\n",
       "</div>"
      ],
      "text/plain": [
       "                 country  year     sex          age  suicides_no  population  \\\n",
       "564  Antigua and Barbuda  2014  female  15-24 years            0        8537   \n",
       "565  Antigua and Barbuda  2014  female  25-34 years            0        7578   \n",
       "566  Antigua and Barbuda  2014  female  35-54 years            0       15273   \n",
       "567  Antigua and Barbuda  2014  female   5-14 years            0        8296   \n",
       "568  Antigua and Barbuda  2014  female  55-74 years            0        6085   \n",
       "\n",
       "     suicides/100k pop             country-year  HDI for year  \\\n",
       "564                0.0  Antigua and Barbuda2014         0.783   \n",
       "565                0.0  Antigua and Barbuda2014         0.783   \n",
       "566                0.0  Antigua and Barbuda2014         0.783   \n",
       "567                0.0  Antigua and Barbuda2014         0.783   \n",
       "568                0.0  Antigua and Barbuda2014         0.783   \n",
       "\n",
       "     gdp_for_year ($)   gdp_per_capita ($)    generation  \n",
       "564     1,28,01,33,333               14093    Millenials  \n",
       "565     1,28,01,33,333               14093    Millenials  \n",
       "566     1,28,01,33,333               14093  Generation X  \n",
       "567     1,28,01,33,333               14093  Generation Z  \n",
       "568     1,28,01,33,333               14093       Boomers  "
      ]
     },
     "execution_count": 395,
     "metadata": {},
     "output_type": "execute_result"
    }
   ],
   "source": [
    "data.head()"
   ]
  },
  {
   "cell_type": "code",
   "execution_count": 396,
   "id": "11ba0033",
   "metadata": {},
   "outputs": [],
   "source": [
    "x1=data['gdp_per_capita ($)']"
   ]
  },
  {
   "cell_type": "code",
   "execution_count": 397,
   "id": "465d77a8",
   "metadata": {},
   "outputs": [
    {
     "data": {
      "text/plain": [
       "564      14093\n",
       "565      14093\n",
       "566      14093\n",
       "567      14093\n",
       "568      14093\n",
       "         ...  \n",
       "27815     2309\n",
       "27816     2309\n",
       "27817     2309\n",
       "27818     2309\n",
       "27819     2309\n",
       "Name: gdp_per_capita ($), Length: 936, dtype: int64"
      ]
     },
     "execution_count": 397,
     "metadata": {},
     "output_type": "execute_result"
    }
   ],
   "source": [
    "x1"
   ]
  },
  {
   "cell_type": "code",
   "execution_count": 398,
   "id": "ec73225c",
   "metadata": {},
   "outputs": [],
   "source": [
    "x10=(x1*.2)"
   ]
  },
  {
   "cell_type": "code",
   "execution_count": 399,
   "id": "bafd3f43",
   "metadata": {},
   "outputs": [
    {
     "data": {
      "text/plain": [
       "564      2818.6\n",
       "565      2818.6\n",
       "566      2818.6\n",
       "567      2818.6\n",
       "568      2818.6\n",
       "          ...  \n",
       "27815     461.8\n",
       "27816     461.8\n",
       "27817     461.8\n",
       "27818     461.8\n",
       "27819     461.8\n",
       "Name: gdp_per_capita ($), Length: 936, dtype: float64"
      ]
     },
     "execution_count": 399,
     "metadata": {},
     "output_type": "execute_result"
    }
   ],
   "source": [
    "x10"
   ]
  },
  {
   "cell_type": "code",
   "execution_count": 400,
   "id": "3198fd11",
   "metadata": {},
   "outputs": [],
   "source": [
    "x2=x1+x10"
   ]
  },
  {
   "cell_type": "code",
   "execution_count": 401,
   "id": "e0b0e331",
   "metadata": {},
   "outputs": [
    {
     "data": {
      "text/plain": [
       "564      16911.6\n",
       "565      16911.6\n",
       "566      16911.6\n",
       "567      16911.6\n",
       "568      16911.6\n",
       "          ...   \n",
       "27815     2770.8\n",
       "27816     2770.8\n",
       "27817     2770.8\n",
       "27818     2770.8\n",
       "27819     2770.8\n",
       "Name: gdp_per_capita ($), Length: 936, dtype: float64"
      ]
     },
     "execution_count": 401,
     "metadata": {},
     "output_type": "execute_result"
    }
   ],
   "source": [
    "x2"
   ]
  },
  {
   "cell_type": "code",
   "execution_count": 402,
   "id": "8720ee45",
   "metadata": {},
   "outputs": [],
   "source": [
    "x2_=x2.mean()"
   ]
  },
  {
   "cell_type": "code",
   "execution_count": 403,
   "id": "4c2b5801",
   "metadata": {},
   "outputs": [
    {
     "data": {
      "text/plain": [
       "32904.16923076923"
      ]
     },
     "execution_count": 403,
     "metadata": {},
     "output_type": "execute_result"
    }
   ],
   "source": [
    "x2_"
   ]
  },
  {
   "cell_type": "code",
   "execution_count": 404,
   "id": "78b0dddf",
   "metadata": {},
   "outputs": [],
   "source": [
    "y2=data['HDI for year']"
   ]
  },
  {
   "cell_type": "code",
   "execution_count": 405,
   "id": "59d523cb",
   "metadata": {},
   "outputs": [
    {
     "data": {
      "text/plain": [
       "564      0.783\n",
       "565      0.783\n",
       "566      0.783\n",
       "567      0.783\n",
       "568      0.783\n",
       "         ...  \n",
       "27815    0.675\n",
       "27816    0.675\n",
       "27817    0.675\n",
       "27818    0.675\n",
       "27819    0.675\n",
       "Name: HDI for year, Length: 936, dtype: float64"
      ]
     },
     "execution_count": 405,
     "metadata": {},
     "output_type": "execute_result"
    }
   ],
   "source": [
    "y2\n"
   ]
  },
  {
   "cell_type": "code",
   "execution_count": 406,
   "id": "e481bf3d",
   "metadata": {},
   "outputs": [],
   "source": [
    "y2_=y2.mean()"
   ]
  },
  {
   "cell_type": "code",
   "execution_count": 407,
   "id": "3098c184",
   "metadata": {},
   "outputs": [
    {
     "data": {
      "text/plain": [
       "0.8085199999999999"
      ]
     },
     "execution_count": 407,
     "metadata": {},
     "output_type": "execute_result"
    }
   ],
   "source": [
    "y2_\n"
   ]
  },
  {
   "cell_type": "code",
   "execution_count": 408,
   "id": "ef57082e",
   "metadata": {},
   "outputs": [],
   "source": [
    "Sxx=np.sum((x2-x2_)**2)"
   ]
  },
  {
   "cell_type": "code",
   "execution_count": 409,
   "id": "e5909a2a",
   "metadata": {},
   "outputs": [
    {
     "data": {
      "text/plain": [
       "925306422142.1537"
      ]
     },
     "execution_count": 409,
     "metadata": {},
     "output_type": "execute_result"
    }
   ],
   "source": [
    "Sxx"
   ]
  },
  {
   "cell_type": "code",
   "execution_count": 410,
   "id": "d263c001",
   "metadata": {},
   "outputs": [],
   "source": [
    "Sxy=np.sum(y2*(x2-x2_))"
   ]
  },
  {
   "cell_type": "code",
   "execution_count": 411,
   "id": "414c20ab",
   "metadata": {},
   "outputs": [
    {
     "data": {
      "text/plain": [
       "1916716.9873846169"
      ]
     },
     "execution_count": 411,
     "metadata": {},
     "output_type": "execute_result"
    }
   ],
   "source": [
    "Sxy"
   ]
  },
  {
   "cell_type": "code",
   "execution_count": 412,
   "id": "950856d6",
   "metadata": {},
   "outputs": [],
   "source": [
    "beta1=Sxy/Sxx"
   ]
  },
  {
   "cell_type": "code",
   "execution_count": 413,
   "id": "2606970c",
   "metadata": {},
   "outputs": [
    {
     "data": {
      "text/plain": [
       "2.071440272669105e-06"
      ]
     },
     "execution_count": 413,
     "metadata": {},
     "output_type": "execute_result"
    }
   ],
   "source": [
    "beta1"
   ]
  },
  {
   "cell_type": "code",
   "execution_count": 414,
   "id": "4e15c008",
   "metadata": {},
   "outputs": [],
   "source": [
    "beta0=y2_-(beta1*x2_)"
   ]
  },
  {
   "cell_type": "code",
   "execution_count": 415,
   "id": "b4592527",
   "metadata": {},
   "outputs": [
    {
     "data": {
      "text/plain": [
       "0.740360978716665"
      ]
     },
     "execution_count": 415,
     "metadata": {},
     "output_type": "execute_result"
    }
   ],
   "source": [
    "beta0"
   ]
  },
  {
   "cell_type": "code",
   "execution_count": 416,
   "id": "7209c1d8",
   "metadata": {},
   "outputs": [],
   "source": [
    "y2_het=beta0+(beta1*x2)"
   ]
  },
  {
   "cell_type": "code",
   "execution_count": 417,
   "id": "b33ff5ed",
   "metadata": {},
   "outputs": [
    {
     "data": {
      "text/plain": [
       "564      0.775392\n",
       "565      0.775392\n",
       "566      0.775392\n",
       "567      0.775392\n",
       "568      0.775392\n",
       "           ...   \n",
       "27815    0.746101\n",
       "27816    0.746101\n",
       "27817    0.746101\n",
       "27818    0.746101\n",
       "27819    0.746101\n",
       "Name: gdp_per_capita ($), Length: 936, dtype: float64"
      ]
     },
     "execution_count": 417,
     "metadata": {},
     "output_type": "execute_result"
    }
   ],
   "source": [
    "y2_het"
   ]
  },
  {
   "cell_type": "code",
   "execution_count": 418,
   "id": "71a2e30d",
   "metadata": {},
   "outputs": [
    {
     "data": {
      "text/plain": [
       "<matplotlib.legend.Legend at 0x237c801f8e0>"
      ]
     },
     "execution_count": 418,
     "metadata": {},
     "output_type": "execute_result"
    },
    {
     "data": {
      "image/png": "[encoded data removed]",
      "text/plain": [
       "<Figure size 640x480 with 1 Axes>"
      ]
     },
     "metadata": {},
     "output_type": "display_data"
    }
   ],
   "source": [
    "\n",
    "plt.scatter(x2, y2, label='Data Points')\n",
    "\n",
    "\n",
    "plt.plot(x1, y2_het, color='red', label='Fitted Line')\n",
    "plt.xlabel('gdp_per_capita ($)')\n",
    "plt.ylabel('HDI for year')\n",
    "plt.legend()"
   ]
  },
  {
   "cell_type": "code",
   "execution_count": 419,
   "id": "2764df3a",
   "metadata": {},
   "outputs": [],
   "source": [
    "SSres=np.sum((y2-y2_het)**2)"
   ]
  },
  {
   "cell_type": "code",
   "execution_count": 420,
   "id": "4ca349df",
   "metadata": {},
   "outputs": [
    {
     "data": {
      "text/plain": [
       "2.386620681322319"
      ]
     },
     "execution_count": 420,
     "metadata": {},
     "output_type": "execute_result"
    }
   ],
   "source": [
    "SSres"
   ]
  },
  {
   "cell_type": "code",
   "execution_count": 421,
   "id": "e4d661ab",
   "metadata": {},
   "outputs": [],
   "source": [
    "SStol=np.sum((y2-y2_)**2)"
   ]
  },
  {
   "cell_type": "code",
   "execution_count": 422,
   "id": "b5ce5208",
   "metadata": {},
   "outputs": [
    {
     "data": {
      "text/plain": [
       "5.967728640000001"
      ]
     },
     "execution_count": 422,
     "metadata": {},
     "output_type": "execute_result"
    }
   ],
   "source": [
    "SStol"
   ]
  },
  {
   "cell_type": "code",
   "execution_count": 423,
   "id": "9d4262d3",
   "metadata": {},
   "outputs": [],
   "source": [
    "R_squared=1-(SSres/SStol)"
   ]
  },
  {
   "cell_type": "code",
   "execution_count": 424,
   "id": "053b3fe4",
   "metadata": {},
   "outputs": [
    {
     "data": {
      "text/plain": [
       "0.6000788867433626"
      ]
     },
     "execution_count": 424,
     "metadata": {},
     "output_type": "execute_result"
    }
   ],
   "source": [
    "R_squared"
   ]
  },
  {
   "cell_type": "markdown",
   "id": "d6475066",
   "metadata": {},
   "source": [
    "# bonus Q..."
   ]
  },
  {
   "cell_type": "code",
   "execution_count": 425,
   "id": "bebe9cd7",
   "metadata": {},
   "outputs": [],
   "source": [
    "fp = df.pivot_table(index = 'year',columns='country',values = 'suicides_no')"
   ]
  },
  {
   "cell_type": "code",
   "execution_count": 426,
   "id": "785b21bf",
   "metadata": {},
   "outputs": [],
   "source": [
    " fp.fillna(fp.mean(),inplace= True)"
   ]
  },
  {
   "cell_type": "code",
   "execution_count": 427,
   "id": "1389b664",
   "metadata": {},
   "outputs": [],
   "source": [
    "fp.replace([np.inf, -np.inf], np.nan, inplace=True)\n",
    "fp.fillna(1e9, inplace=True)"
   ]
  },
  {
   "cell_type": "code",
   "execution_count": 428,
   "id": "36adde39",
   "metadata": {
    "scrolled": true
   },
   "outputs": [
    {
     "data": {
      "text/plain": [
       "<Axes: xlabel='country', ylabel='year'>"
      ]
     },
     "execution_count": 428,
     "metadata": {},
     "output_type": "execute_result"
    },
    {
     "data": {
      "image/png": "[encoded data removed]",
      "text/plain": [
       "<Figure size 640x480 with 2 Axes>"
      ]
     },
     "metadata": {},
     "output_type": "display_data"
    }
   ],
   "source": [
    "sns.heatmap(fp)"
   ]
  },
  {
   "cell_type": "code",
   "execution_count": 429,
   "id": "bc62c5ae",
   "metadata": {},
   "outputs": [
    {
     "data": {
      "text/plain": [
       "<seaborn.matrix.ClusterGrid at 0x237c808a7a0>"
      ]
     },
     "execution_count": 429,
     "metadata": {},
     "output_type": "execute_result"
    },
    {
     "data": {
      "image/png": "[encoded data removed]",
      "text/plain": [
       "<Figure size 1000x1000 with 4 Axes>"
      ]
     },
     "metadata": {},
     "output_type": "display_data"
    }
   ],
   "source": [
    "sns.clustermap(fp)"
   ]
  },
  {
   "cell_type": "markdown",
   "id": "ec02f0dc",
   "metadata": {},
   "source": [
    "# Q 2.."
   ]
  },
  {
   "cell_type": "code",
   "execution_count": 430,
   "id": "3c4e9616",
   "metadata": {},
   "outputs": [],
   "source": [
    "df21= pd.read_csv('AAPL.csv')"
   ]
  },
  {
   "cell_type": "code",
   "execution_count": 431,
   "id": "319fcdba",
   "metadata": {},
   "outputs": [
    {
     "data": {
      "text/html": [
       "<div>\n",
       "<style scoped>\n",
       "    .dataframe tbody tr th:only-of-type {\n",
       "        vertical-align: middle;\n",
       "    }\n",
       "\n",
       "    .dataframe tbody tr th {\n",
       "        vertical-align: top;\n",
       "    }\n",
       "\n",
       "    .dataframe thead th {\n",
       "        text-align: right;\n",
       "    }\n",
       "</style>\n",
       "<table border=\"1\" class=\"dataframe\">\n",
       "  <thead>\n",
       "    <tr style=\"text-align: right;\">\n",
       "      <th></th>\n",
       "      <th>Date</th>\n",
       "      <th>Open</th>\n",
       "      <th>High</th>\n",
       "      <th>Low</th>\n",
       "      <th>Close</th>\n",
       "      <th>Adj Close</th>\n",
       "      <th>Volume</th>\n",
       "    </tr>\n",
       "  </thead>\n",
       "  <tbody>\n",
       "    <tr>\n",
       "      <th>0</th>\n",
       "      <td>2022-09-15</td>\n",
       "      <td>154.649994</td>\n",
       "      <td>155.240005</td>\n",
       "      <td>151.380005</td>\n",
       "      <td>152.369995</td>\n",
       "      <td>151.471405</td>\n",
       "      <td>90481100</td>\n",
       "    </tr>\n",
       "    <tr>\n",
       "      <th>1</th>\n",
       "      <td>2022-09-16</td>\n",
       "      <td>151.210007</td>\n",
       "      <td>151.350006</td>\n",
       "      <td>148.369995</td>\n",
       "      <td>150.699997</td>\n",
       "      <td>149.811264</td>\n",
       "      <td>162278800</td>\n",
       "    </tr>\n",
       "    <tr>\n",
       "      <th>2</th>\n",
       "      <td>2022-09-19</td>\n",
       "      <td>149.309998</td>\n",
       "      <td>154.559998</td>\n",
       "      <td>149.100006</td>\n",
       "      <td>154.479996</td>\n",
       "      <td>153.568970</td>\n",
       "      <td>81474200</td>\n",
       "    </tr>\n",
       "    <tr>\n",
       "      <th>3</th>\n",
       "      <td>2022-09-20</td>\n",
       "      <td>153.399994</td>\n",
       "      <td>158.080002</td>\n",
       "      <td>153.080002</td>\n",
       "      <td>156.899994</td>\n",
       "      <td>155.974701</td>\n",
       "      <td>107689800</td>\n",
       "    </tr>\n",
       "    <tr>\n",
       "      <th>4</th>\n",
       "      <td>2022-09-21</td>\n",
       "      <td>157.339996</td>\n",
       "      <td>158.740005</td>\n",
       "      <td>153.600006</td>\n",
       "      <td>153.720001</td>\n",
       "      <td>152.813461</td>\n",
       "      <td>101696800</td>\n",
       "    </tr>\n",
       "  </tbody>\n",
       "</table>\n",
       "</div>"
      ],
      "text/plain": [
       "         Date        Open        High         Low       Close   Adj Close  \\\n",
       "0  2022-09-15  154.649994  155.240005  151.380005  152.369995  151.471405   \n",
       "1  2022-09-16  151.210007  151.350006  148.369995  150.699997  149.811264   \n",
       "2  2022-09-19  149.309998  154.559998  149.100006  154.479996  153.568970   \n",
       "3  2022-09-20  153.399994  158.080002  153.080002  156.899994  155.974701   \n",
       "4  2022-09-21  157.339996  158.740005  153.600006  153.720001  152.813461   \n",
       "\n",
       "      Volume  \n",
       "0   90481100  \n",
       "1  162278800  \n",
       "2   81474200  \n",
       "3  107689800  \n",
       "4  101696800  "
      ]
     },
     "execution_count": 431,
     "metadata": {},
     "output_type": "execute_result"
    }
   ],
   "source": [
    "df21.head()"
   ]
  },
  {
   "cell_type": "code",
   "execution_count": 432,
   "id": "bbd348bf",
   "metadata": {},
   "outputs": [
    {
     "name": "stdout",
     "output_type": "stream",
     "text": [
      "<class 'pandas.core.frame.DataFrame'>\n",
      "RangeIndex: 252 entries, 0 to 251\n",
      "Data columns (total 7 columns):\n",
      " #   Column     Non-Null Count  Dtype  \n",
      "---  ------     --------------  -----  \n",
      " 0   Date       252 non-null    object \n",
      " 1   Open       252 non-null    float64\n",
      " 2   High       252 non-null    float64\n",
      " 3   Low        252 non-null    float64\n",
      " 4   Close      252 non-null    float64\n",
      " 5   Adj Close  252 non-null    float64\n",
      " 6   Volume     252 non-null    int64  \n",
      "dtypes: float64(5), int64(1), object(1)\n",
      "memory usage: 13.9+ KB\n"
     ]
    }
   ],
   "source": [
    "df21.info()"
   ]
  },
  {
   "cell_type": "code",
   "execution_count": 433,
   "id": "fee2ca2a",
   "metadata": {},
   "outputs": [
    {
     "data": {
      "text/plain": [
       "0      2022-09-15\n",
       "1      2022-09-16\n",
       "2      2022-09-19\n",
       "3      2022-09-20\n",
       "4      2022-09-21\n",
       "          ...    \n",
       "247    2023-09-11\n",
       "248    2023-09-12\n",
       "249    2023-09-13\n",
       "250    2023-09-14\n",
       "251    2023-09-15\n",
       "Name: Date, Length: 252, dtype: object"
      ]
     },
     "execution_count": 433,
     "metadata": {},
     "output_type": "execute_result"
    }
   ],
   "source": [
    "df21.Date"
   ]
  },
  {
   "cell_type": "code",
   "execution_count": 434,
   "id": "b70d070d",
   "metadata": {},
   "outputs": [
    {
     "name": "stdout",
     "output_type": "stream",
     "text": [
      "           Date        Open        High         Low       Close   Adj Close  \\\n",
      "199  2023-07-03  193.779999  193.880005  191.759995  192.460007  192.200470   \n",
      "200  2023-07-05  191.570007  192.979996  190.619995  191.330002  191.071976   \n",
      "201  2023-07-06  189.839996  192.020004  189.199997  191.809998  191.551331   \n",
      "202  2023-07-07  191.410004  192.669998  190.240005  190.679993  190.422852   \n",
      "203  2023-07-10  189.259995  189.990005  187.039993  188.610001  188.355652   \n",
      "204  2023-07-11  189.160004  189.300003  186.600006  188.080002  187.826370   \n",
      "205  2023-07-12  189.679993  191.699997  188.470001  189.770004  189.514084   \n",
      "206  2023-07-13  190.500000  191.190002  189.779999  190.539993  190.283035   \n",
      "207  2023-07-14  190.229996  191.179993  189.630005  190.690002  190.432846   \n",
      "208  2023-07-17  191.899994  194.320007  191.809998  193.990005  193.728394   \n",
      "209  2023-07-18  193.350006  194.330002  192.419998  193.729996  193.468735   \n",
      "210  2023-07-19  193.100006  198.229996  192.649994  195.100006  194.836899   \n",
      "211  2023-07-20  195.089996  196.470001  192.500000  193.130005  192.869553   \n",
      "212  2023-07-21  194.100006  194.970001  191.229996  191.940002  191.681168   \n",
      "213  2023-07-24  193.410004  194.910004  192.250000  192.750000  192.490067   \n",
      "214  2023-07-25  193.330002  194.440002  192.919998  193.619995  193.358887   \n",
      "215  2023-07-26  193.669998  195.639999  193.320007  194.500000  194.237701   \n",
      "216  2023-07-27  196.020004  197.199997  192.550003  193.220001  192.959427   \n",
      "217  2023-07-28  194.669998  196.630005  194.139999  195.830002  195.565918   \n",
      "218  2023-07-31  196.059998  196.490005  195.259995  196.449997  196.185074   \n",
      "219  2023-08-01  196.240005  196.729996  195.279999  195.610001  195.346207   \n",
      "220  2023-08-02  195.039993  195.179993  191.850006  192.580002  192.320297   \n",
      "221  2023-08-03  191.570007  192.369995  190.690002  191.169998  190.912201   \n",
      "222  2023-08-04  185.520004  187.380005  181.919998  181.990005  181.744583   \n",
      "223  2023-08-07  182.130005  183.130005  177.350006  178.850006  178.608810   \n",
      "224  2023-08-08  179.690002  180.270004  177.580002  179.800003  179.557526   \n",
      "225  2023-08-09  180.869995  180.929993  177.009995  178.190002  177.949707   \n",
      "226  2023-08-10  179.479996  180.750000  177.600006  177.970001  177.729996   \n",
      "227  2023-08-11  177.320007  178.619995  176.550003  177.789993  177.789993   \n",
      "228  2023-08-14  177.970001  179.690002  177.309998  179.460007  179.460007   \n",
      "229  2023-08-15  178.880005  179.479996  177.050003  177.449997  177.449997   \n",
      "230  2023-08-16  177.130005  178.539993  176.500000  176.570007  176.570007   \n",
      "231  2023-08-17  177.139999  177.509995  173.479996  174.000000  174.000000   \n",
      "232  2023-08-18  172.300003  175.100006  171.960007  174.490005  174.490005   \n",
      "233  2023-08-21  175.070007  176.130005  173.740005  175.839996  175.839996   \n",
      "234  2023-08-22  177.059998  177.679993  176.250000  177.229996  177.229996   \n",
      "235  2023-08-23  178.520004  181.550003  178.330002  181.119995  181.119995   \n",
      "236  2023-08-24  180.669998  181.100006  176.009995  176.380005  176.380005   \n",
      "237  2023-08-25  177.380005  179.149994  175.820007  178.610001  178.610001   \n",
      "238  2023-08-28  180.089996  180.589996  178.550003  180.190002  180.190002   \n",
      "239  2023-08-29  179.699997  184.899994  179.500000  184.119995  184.119995   \n",
      "240  2023-08-30  184.940002  187.850006  184.740005  187.649994  187.649994   \n",
      "241  2023-08-31  187.839996  189.119995  187.479996  187.869995  187.869995   \n",
      "242  2023-09-01  189.490005  189.919998  188.279999  189.460007  189.460007   \n",
      "243  2023-09-05  188.279999  189.979996  187.610001  189.699997  189.699997   \n",
      "244  2023-09-06  188.399994  188.850006  181.470001  182.910004  182.910004   \n",
      "245  2023-09-07  175.179993  178.210007  173.539993  177.559998  177.559998   \n",
      "246  2023-09-08  178.350006  180.240005  177.789993  178.179993  178.179993   \n",
      "247  2023-09-11  180.070007  180.300003  177.339996  179.360001  179.360001   \n",
      "248  2023-09-12  179.490005  180.130005  174.820007  176.300003  176.300003   \n",
      "249  2023-09-13  176.509995  177.300003  173.979996  174.210007  174.210007   \n",
      "250  2023-09-14  174.000000  176.100006  173.580002  175.740005  175.740005   \n",
      "251  2023-09-15  176.479996  176.500000  173.820007  175.009995  175.009995   \n",
      "\n",
      "        Volume date_column  \n",
      "199   31458200  2023-07-03  \n",
      "200   46920300  2023-07-05  \n",
      "201   45094300  2023-07-06  \n",
      "202   46778000  2023-07-07  \n",
      "203   59922200  2023-07-10  \n",
      "204   46638100  2023-07-11  \n",
      "205   60750200  2023-07-12  \n",
      "206   41342300  2023-07-13  \n",
      "207   41573900  2023-07-14  \n",
      "208   50520200  2023-07-17  \n",
      "209   48353800  2023-07-18  \n",
      "210   80507300  2023-07-19  \n",
      "211   59581200  2023-07-20  \n",
      "212   71917800  2023-07-21  \n",
      "213   45377800  2023-07-24  \n",
      "214   37283200  2023-07-25  \n",
      "215   47471900  2023-07-26  \n",
      "216   47460200  2023-07-27  \n",
      "217   48291400  2023-07-28  \n",
      "218   38824100  2023-07-31  \n",
      "219   35175100  2023-08-01  \n",
      "220   50389300  2023-08-02  \n",
      "221   61235200  2023-08-03  \n",
      "222  115799700  2023-08-04  \n",
      "223   97576100  2023-08-07  \n",
      "224   67823000  2023-08-08  \n",
      "225   60378500  2023-08-09  \n",
      "226   54686900  2023-08-10  \n",
      "227   51988100  2023-08-11  \n",
      "228   43675600  2023-08-14  \n",
      "229   43622600  2023-08-15  \n",
      "230   46964900  2023-08-16  \n",
      "231   66062900  2023-08-17  \n",
      "232   61114200  2023-08-18  \n",
      "233   46311900  2023-08-21  \n",
      "234   42084200  2023-08-22  \n",
      "235   52722800  2023-08-23  \n",
      "236   54945800  2023-08-24  \n",
      "237   51449600  2023-08-25  \n",
      "238   43820700  2023-08-28  \n",
      "239   53003900  2023-08-29  \n",
      "240   60813900  2023-08-30  \n",
      "241   60794500  2023-08-31  \n",
      "242   45732600  2023-09-01  \n",
      "243   45280000  2023-09-05  \n",
      "244   81755800  2023-09-06  \n",
      "245  112488800  2023-09-07  \n",
      "246   65551300  2023-09-08  \n",
      "247   58953100  2023-09-11  \n",
      "248   90370200  2023-09-12  \n",
      "249   84267900  2023-09-13  \n",
      "250   60895800  2023-09-14  \n",
      "251  109205100  2023-09-15  \n"
     ]
    }
   ],
   "source": [
    "df21['date_column'] = pd.to_datetime(df21['Date'])\n",
    "start_date = pd.to_datetime('2023-07-01')\n",
    "end_date = pd.to_datetime('2023-09-30')\n",
    "selected_rows = df21[(df21['date_column'] >= start_date) & (df21['date_column'] <= end_date)]\n",
    "print(selected_rows)\n",
    "df22=pd.DataFrame(selected_rows)"
   ]
  },
  {
   "cell_type": "code",
   "execution_count": 435,
   "id": "01d02a6a",
   "metadata": {},
   "outputs": [
    {
     "data": {
      "text/html": [
       "<div>\n",
       "<style scoped>\n",
       "    .dataframe tbody tr th:only-of-type {\n",
       "        vertical-align: middle;\n",
       "    }\n",
       "\n",
       "    .dataframe tbody tr th {\n",
       "        vertical-align: top;\n",
       "    }\n",
       "\n",
       "    .dataframe thead th {\n",
       "        text-align: right;\n",
       "    }\n",
       "</style>\n",
       "<table border=\"1\" class=\"dataframe\">\n",
       "  <thead>\n",
       "    <tr style=\"text-align: right;\">\n",
       "      <th></th>\n",
       "      <th>Date</th>\n",
       "      <th>Open</th>\n",
       "      <th>High</th>\n",
       "      <th>Low</th>\n",
       "      <th>Close</th>\n",
       "      <th>Adj Close</th>\n",
       "      <th>Volume</th>\n",
       "      <th>date_column</th>\n",
       "    </tr>\n",
       "  </thead>\n",
       "  <tbody>\n",
       "    <tr>\n",
       "      <th>199</th>\n",
       "      <td>2023-07-03</td>\n",
       "      <td>193.779999</td>\n",
       "      <td>193.880005</td>\n",
       "      <td>191.759995</td>\n",
       "      <td>192.460007</td>\n",
       "      <td>192.200470</td>\n",
       "      <td>31458200</td>\n",
       "      <td>2023-07-03</td>\n",
       "    </tr>\n",
       "    <tr>\n",
       "      <th>200</th>\n",
       "      <td>2023-07-05</td>\n",
       "      <td>191.570007</td>\n",
       "      <td>192.979996</td>\n",
       "      <td>190.619995</td>\n",
       "      <td>191.330002</td>\n",
       "      <td>191.071976</td>\n",
       "      <td>46920300</td>\n",
       "      <td>2023-07-05</td>\n",
       "    </tr>\n",
       "    <tr>\n",
       "      <th>201</th>\n",
       "      <td>2023-07-06</td>\n",
       "      <td>189.839996</td>\n",
       "      <td>192.020004</td>\n",
       "      <td>189.199997</td>\n",
       "      <td>191.809998</td>\n",
       "      <td>191.551331</td>\n",
       "      <td>45094300</td>\n",
       "      <td>2023-07-06</td>\n",
       "    </tr>\n",
       "    <tr>\n",
       "      <th>202</th>\n",
       "      <td>2023-07-07</td>\n",
       "      <td>191.410004</td>\n",
       "      <td>192.669998</td>\n",
       "      <td>190.240005</td>\n",
       "      <td>190.679993</td>\n",
       "      <td>190.422852</td>\n",
       "      <td>46778000</td>\n",
       "      <td>2023-07-07</td>\n",
       "    </tr>\n",
       "    <tr>\n",
       "      <th>203</th>\n",
       "      <td>2023-07-10</td>\n",
       "      <td>189.259995</td>\n",
       "      <td>189.990005</td>\n",
       "      <td>187.039993</td>\n",
       "      <td>188.610001</td>\n",
       "      <td>188.355652</td>\n",
       "      <td>59922200</td>\n",
       "      <td>2023-07-10</td>\n",
       "    </tr>\n",
       "  </tbody>\n",
       "</table>\n",
       "</div>"
      ],
      "text/plain": [
       "           Date        Open        High         Low       Close   Adj Close  \\\n",
       "199  2023-07-03  193.779999  193.880005  191.759995  192.460007  192.200470   \n",
       "200  2023-07-05  191.570007  192.979996  190.619995  191.330002  191.071976   \n",
       "201  2023-07-06  189.839996  192.020004  189.199997  191.809998  191.551331   \n",
       "202  2023-07-07  191.410004  192.669998  190.240005  190.679993  190.422852   \n",
       "203  2023-07-10  189.259995  189.990005  187.039993  188.610001  188.355652   \n",
       "\n",
       "       Volume date_column  \n",
       "199  31458200  2023-07-03  \n",
       "200  46920300  2023-07-05  \n",
       "201  45094300  2023-07-06  \n",
       "202  46778000  2023-07-07  \n",
       "203  59922200  2023-07-10  "
      ]
     },
     "execution_count": 435,
     "metadata": {},
     "output_type": "execute_result"
    }
   ],
   "source": [
    "df22.head()"
   ]
  },
  {
   "cell_type": "code",
   "execution_count": 436,
   "id": "edfc6e2d",
   "metadata": {},
   "outputs": [],
   "source": [
    "x=df22['Volume'].mean()"
   ]
  },
  {
   "cell_type": "code",
   "execution_count": 437,
   "id": "9b3a3ba5",
   "metadata": {},
   "outputs": [
    {
     "data": {
      "text/plain": [
       "57981252.83018868"
      ]
     },
     "execution_count": 437,
     "metadata": {},
     "output_type": "execute_result"
    }
   ],
   "source": [
    "x"
   ]
  },
  {
   "cell_type": "code",
   "execution_count": 438,
   "id": "9e9e7856",
   "metadata": {},
   "outputs": [
    {
     "name": "stdout",
     "output_type": "stream",
     "text": [
      "Intercept (B0):4.683617011908893\n",
      "Slope (B1): 0.9729806083003467\n",
      "199    193.227798\n",
      "200    191.077519\n",
      "201    189.394252\n",
      "202    190.921839\n",
      "203    188.829922\n",
      "204    188.732633\n",
      "205    189.238572\n",
      "206    190.036423\n",
      "207    189.773714\n",
      "208    191.398590\n",
      "209    192.809423\n",
      "210    192.566178\n",
      "211    194.502400\n",
      "212    193.539159\n",
      "213    192.867800\n",
      "214    192.789960\n",
      "215    193.120769\n",
      "216    195.407280\n",
      "217    194.093750\n",
      "218    195.446193\n",
      "219    195.621336\n",
      "220    194.453748\n",
      "221    191.077519\n",
      "222    185.190983\n",
      "223    181.892580\n",
      "224    179.518504\n",
      "225    180.666615\n",
      "226    179.314173\n",
      "227    177.212545\n",
      "228    177.844977\n",
      "229    178.730393\n",
      "230    177.027677\n",
      "231    177.037401\n",
      "232    172.328179\n",
      "233    175.023339\n",
      "234    176.959562\n",
      "235    178.380119\n",
      "236    180.472022\n",
      "237    177.270922\n",
      "238    179.907691\n",
      "239    179.528229\n",
      "240    184.626653\n",
      "241    187.448291\n",
      "242    189.053717\n",
      "243    187.876405\n",
      "244    187.993158\n",
      "245    175.130353\n",
      "246    178.214714\n",
      "247    179.888242\n",
      "248    179.323911\n",
      "249    176.424419\n",
      "250    173.982243\n",
      "251    176.395231\n",
      "Name: Open, dtype: float64\n"
     ]
    }
   ],
   "source": [
    "x=df22['Open'].mean()\n",
    "y=df22['Close'].mean()\n",
    "mean_X = x\n",
    "mean_Y = y\n",
    "final_Data = df22[['Open', 'Close']]\n",
    "numerator = np.sum((final_Data['Open'] - mean_X) * (final_Data['Close'] - mean_Y))\n",
    "denominator = np.sum((final_Data['Open'] - mean_X)**2)\n",
    "beta1 = numerator / denominator\n",
    "beta0 = mean_Y - beta1 * mean_X\n",
    "\n",
    "  # The Coefficients B0 and B1 are :\n",
    "print(f\"Intercept (B0):{beta0}\")\n",
    "print(f\"Slope (B1): {beta1}\")\n",
    "\n",
    "# Make predictions for Closing Stock Prices\n",
    "predicted_Y = beta0 + beta1 * final_Data['Open']\n",
    "print(predicted_Y)"
   ]
  },
  {
   "cell_type": "code",
   "execution_count": 439,
   "id": "e13538b5",
   "metadata": {},
   "outputs": [],
   "source": [
    "final_Data = df22[['Open', 'Close']]"
   ]
  },
  {
   "cell_type": "code",
   "execution_count": 440,
   "id": "b0d80cf5",
   "metadata": {},
   "outputs": [
    {
     "data": {
      "text/html": [
       "<div>\n",
       "<style scoped>\n",
       "    .dataframe tbody tr th:only-of-type {\n",
       "        vertical-align: middle;\n",
       "    }\n",
       "\n",
       "    .dataframe tbody tr th {\n",
       "        vertical-align: top;\n",
       "    }\n",
       "\n",
       "    .dataframe thead th {\n",
       "        text-align: right;\n",
       "    }\n",
       "</style>\n",
       "<table border=\"1\" class=\"dataframe\">\n",
       "  <thead>\n",
       "    <tr style=\"text-align: right;\">\n",
       "      <th></th>\n",
       "      <th>Open</th>\n",
       "      <th>Close</th>\n",
       "    </tr>\n",
       "  </thead>\n",
       "  <tbody>\n",
       "    <tr>\n",
       "      <th>199</th>\n",
       "      <td>193.779999</td>\n",
       "      <td>192.460007</td>\n",
       "    </tr>\n",
       "    <tr>\n",
       "      <th>200</th>\n",
       "      <td>191.570007</td>\n",
       "      <td>191.330002</td>\n",
       "    </tr>\n",
       "    <tr>\n",
       "      <th>201</th>\n",
       "      <td>189.839996</td>\n",
       "      <td>191.809998</td>\n",
       "    </tr>\n",
       "    <tr>\n",
       "      <th>202</th>\n",
       "      <td>191.410004</td>\n",
       "      <td>190.679993</td>\n",
       "    </tr>\n",
       "    <tr>\n",
       "      <th>203</th>\n",
       "      <td>189.259995</td>\n",
       "      <td>188.610001</td>\n",
       "    </tr>\n",
       "  </tbody>\n",
       "</table>\n",
       "</div>"
      ],
      "text/plain": [
       "           Open       Close\n",
       "199  193.779999  192.460007\n",
       "200  191.570007  191.330002\n",
       "201  189.839996  191.809998\n",
       "202  191.410004  190.679993\n",
       "203  189.259995  188.610001"
      ]
     },
     "execution_count": 440,
     "metadata": {},
     "output_type": "execute_result"
    }
   ],
   "source": [
    "final_Data.head()"
   ]
  },
  {
   "cell_type": "code",
   "execution_count": 441,
   "id": "ff66c539",
   "metadata": {},
   "outputs": [
    {
     "name": "stdout",
     "output_type": "stream",
     "text": [
      "2761.9295380730878\n"
     ]
    }
   ],
   "source": [
    "numerator = np.sum((final_Data['Open'] - mean_X) * (final_Data['Close'] - mean_Y))\n",
    "print(numerator)"
   ]
  },
  {
   "cell_type": "code",
   "execution_count": 442,
   "id": "f027dfcc",
   "metadata": {},
   "outputs": [
    {
     "name": "stdout",
     "output_type": "stream",
     "text": [
      "2838.627527117699\n"
     ]
    }
   ],
   "source": [
    "denominator = np.sum((final_Data['Open'] - mean_X)**2)\n",
    "print(denominator)"
   ]
  },
  {
   "cell_type": "code",
   "execution_count": 443,
   "id": "eeef58a8",
   "metadata": {},
   "outputs": [
    {
     "name": "stdout",
     "output_type": "stream",
     "text": [
      "199    193.227798\n",
      "200    191.077519\n",
      "201    189.394252\n",
      "202    190.921839\n",
      "203    188.829922\n",
      "204    188.732633\n",
      "205    189.238572\n",
      "206    190.036423\n",
      "207    189.773714\n",
      "208    191.398590\n",
      "209    192.809423\n",
      "210    192.566178\n",
      "211    194.502400\n",
      "212    193.539159\n",
      "213    192.867800\n",
      "214    192.789960\n",
      "215    193.120769\n",
      "216    195.407280\n",
      "217    194.093750\n",
      "218    195.446193\n",
      "219    195.621336\n",
      "220    194.453748\n",
      "221    191.077519\n",
      "222    185.190983\n",
      "223    181.892580\n",
      "224    179.518504\n",
      "225    180.666615\n",
      "226    179.314173\n",
      "227    177.212545\n",
      "228    177.844977\n",
      "229    178.730393\n",
      "230    177.027677\n",
      "231    177.037401\n",
      "232    172.328179\n",
      "233    175.023339\n",
      "234    176.959562\n",
      "235    178.380119\n",
      "236    180.472022\n",
      "237    177.270922\n",
      "238    179.907691\n",
      "239    179.528229\n",
      "240    184.626653\n",
      "241    187.448291\n",
      "242    189.053717\n",
      "243    187.876405\n",
      "244    187.993158\n",
      "245    175.130353\n",
      "246    178.214714\n",
      "247    179.888242\n",
      "248    179.323911\n",
      "249    176.424419\n",
      "250    173.982243\n",
      "251    176.395231\n",
      "Name: Open, dtype: float64\n"
     ]
    }
   ],
   "source": [
    "predicted_Y = beta0 + beta1 * final_Data['Open']\n",
    "print(predicted_Y)"
   ]
  },
  {
   "cell_type": "code",
   "execution_count": 444,
   "id": "f3a5e5d2",
   "metadata": {},
   "outputs": [
    {
     "name": "stdout",
     "output_type": "stream",
     "text": [
      "2887.105312113438\n",
      "199.801430076389\n",
      "0.9307952400495814\n"
     ]
    }
   ],
   "source": [
    "SST = np.sum((final_Data['Close'] - mean_Y)**2)\n",
    "SSE = np.sum((final_Data['Close'] - predicted_Y)**2)\n",
    "R_Squared =1-(SSE/SST)\n",
    "print(SST)\n",
    "print(SSE)\n",
    "print(R_Squared)"
   ]
  },
  {
   "cell_type": "code",
   "execution_count": 445,
   "id": "6f22a187",
   "metadata": {},
   "outputs": [
    {
     "data": {
      "text/plain": [
       "[<matplotlib.lines.Line2D at 0x237c88b01c0>]"
      ]
     },
     "execution_count": 445,
     "metadata": {},
     "output_type": "execute_result"
    },
    {
     "data": {
      "image/png": "[encoded data removed]",
      "text/plain": [
       "<Figure size 640x480 with 1 Axes>"
      ]
     },
     "metadata": {},
     "output_type": "display_data"
    }
   ],
   "source": [
    "plt.scatter(final_Data['Open'],final_Data['Close'], label = 'Data Plot' )\n",
    "plt.plot(final_Data['Open'],predicted_Y,color='red', label = 'Fitted Line')"
   ]
  },
  {
   "cell_type": "code",
   "execution_count": 446,
   "id": "bea14f0b",
   "metadata": {},
   "outputs": [
    {
     "name": "stdout",
     "output_type": "stream",
     "text": [
      "Arbitrage Opportunity: \n",
      "\n",
      "MXN --> INR --> MXN --> PLN --> EUR\n",
      "Arbitrage Opportunity: \n",
      "\n",
      "MXN --> INR --> MXN\n",
      "Arbitrage Opportunity: \n",
      "\n",
      "MXN --> INR --> MXN --> EUR --> RUB\n",
      "Arbitrage Opportunity: \n",
      "\n",
      "MXN --> INR --> MXN\n",
      "Arbitrage Opportunity: \n",
      "\n",
      "MXN --> INR --> MXN --> USD --> EUR\n",
      "Arbitrage Opportunity: \n",
      "\n",
      "MXN --> INR --> MXN\n",
      "Arbitrage Opportunity: \n",
      "\n",
      "INR --> MXN --> RUB --> INR\n",
      "Arbitrage Opportunity: \n",
      "\n",
      "MXN --> INR --> MXN\n"
     ]
    }
   ],
   "source": [
    "from typing import Tuple, List\n",
    "from math import log\n",
    "\n",
    "# We are Considering Currencies of Polish Zolty - PLN, European Euro - EUR, US Dollar - USD,\n",
    "# Russian Ruble - RUB, Indian Rupee -INR, Mexican Peso - MXN\n",
    "\n",
    "# Conversion of Currenciencies in matrix form respectively\n",
    "\n",
    "rates = [\n",
    "    [1, 0.22, 0.23, 22.22, 19.07, 3.92],\n",
    "    [4.65, 1, 1.07, 103.32, 88.69, 18.20],\n",
    "    [4.36, 0.94, 1, 96.80, 83.09, 17.08],\n",
    "    [0.045, 0.0097, 0.010, 1, 0.86, 0.18],\n",
    "    [0.052, 0.011, 0.012, 1.16, 1, 0.21],\n",
    "    [0.26, 0.055, 0.059, 5.67, 4.86, 1],\n",
    "]\n",
    "\n",
    "currencies = ('PLN', 'EUR', 'USD', 'RUB', 'INR', 'MXN')\n",
    "\n",
    "\n",
    "def negative_logarithm_convertor(graph: Tuple[Tuple[float]]) -> List[List[float]]:\n",
    "    #  log of each rate in graph and negate it\n",
    "    r = [[-log(edge) for edge in row] for row in graph]\n",
    "    return r\n",
    "\n",
    "\n",
    "def arbitrage(currency_tuple: tuple, rates_matrix: Tuple[Tuple[float, ...]]):\n",
    "    ''' Calculates arbitrage situations and prints out the details of this calculations'''\n",
    "\n",
    "    w = negative_logarithm_convertor(rates_matrix)\n",
    "\n",
    "    # Pick any source vertex -- we can run Bellman-Ford from any vertex and get the right result\n",
    "\n",
    "    s = 0\n",
    "    n = len(w)\n",
    "    min_dist = [float('inf')] * n\n",
    "\n",
    "    pre = [-1] * n\n",
    "\n",
    "    min_dist[s] = s\n",
    "\n",
    "    # 'Relax edges |V-1| times'\n",
    "    for _ in range(n-1):\n",
    "        for source in range(n):\n",
    "            for destination in range(n):\n",
    "                if min_dist[destination] > min_dist[source] + w[source][destination]:\n",
    "                    min_dist[destination] = min_dist[source] + w[source][destination]\n",
    "                    pre[destination] = source\n",
    "\n",
    "    # if we can still relax edges, then we have a negative cycle\n",
    "    for source in range(n):\n",
    "        for destination in range(n):\n",
    "            if min_dist[destination] > min_dist[source] + w[source][destination]:\n",
    "                # negative cycle exists, and use the predecessor chain to print the cycle\n",
    "                print_cycle = [destination, source]\n",
    "                # Start from the source and go backwards until you see the source vertex again or any vertex that already exists in print_cycle array\n",
    "                while pre[source] not in  print_cycle:\n",
    "                    print_cycle.append(pre[source])\n",
    "                    source = pre[source]\n",
    "                print_cycle.append(pre[source])\n",
    "                print(\"Arbitrage Opportunity: \\n\")\n",
    "                print(\" --> \".join([currencies[p] for p in print_cycle[::-1]]))\n",
    "\n",
    "\n",
    "if __name__ == \"__main__\":\n",
    "    arbitrage(currencies, rates)"
   ]
  },
  {
   "cell_type": "markdown",
   "id": "8beaa902",
   "metadata": {},
   "source": [
    "# Q2    4).."
   ]
  },
  {
   "cell_type": "code",
   "execution_count": 447,
   "id": "9a7be464",
   "metadata": {},
   "outputs": [
    {
     "data": {
      "image/png": "[encoded data removed]",
      "text/plain": [
       "<Figure size 640x480 with 1 Axes>"
      ]
     },
     "metadata": {},
     "output_type": "display_data"
    }
   ],
   "source": [
    "import numpy as np\n",
    "import matplotlib.pyplot as plt\n",
    "\n",
    "# Your sequence\n",
    "\n",
    "sequence = \"xoxxoxooxoxoxoxooxoxxoxooxoxxoxoxooxoxxoxxoxxoxooxoxxoxoxoxoxoxoooxooxoxoxo\"\n",
    "\n",
    "# Calculate autocorrelation\n",
    "autocorrelation = np.correlate([1 if c == 'x' else -1 for c in sequence], [1 if c == 'x' else -1 for c in sequence], mode='full')\n",
    "\n",
    "# Normalize autocorrelation values\n",
    "Norm_auto= np.max(np.abs(autocorrelation))  \n",
    "Fin_auto = autocorrelation/Norm_auto\n",
    "\n",
    "# Plot autocorrelation\n",
    "lags = np.arange(-len(sequence) + 1, len(sequence))\n",
    "plt.stem(lags, Fin_auto)\n",
    "plt.xlabel('Lag')\n",
    "plt.ylabel('nomalisedautocorrelation')\n",
    "plt.title('Autocorrelation Plot')\n",
    "plt.grid(True)\n",
    "plt.show()"
   ]
  }
 ],
 "metadata": {
  "kernelspec": {
   "display_name": "Python 3 (ipykernel)",
   "language": "python",
   "name": "python3"
  },
  "language_info": {
   "codemirror_mode": {
    "name": "ipython",
    "version": 3
   },
   "file_extension": ".py",
   "mimetype": "text/x-python",
   "name": "python",
   "nbconvert_exporter": "python",
   "pygments_lexer": "ipython3",
   "version": "3.10.9"
  }
 },
 "nbformat": 4,
 "nbformat_minor": 5
}
